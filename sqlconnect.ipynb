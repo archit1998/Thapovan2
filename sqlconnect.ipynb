{
 "cells": [
  {
   "cell_type": "code",
   "execution_count": 9,
   "metadata": {},
   "outputs": [
    {
     "name": "stdout",
     "output_type": "stream",
     "text": [
      "hello\n"
     ]
    }
   ],
   "source": [
    "print(\"hello\")"
   ]
  },
  {
   "cell_type": "code",
   "execution_count": 10,
   "metadata": {},
   "outputs": [
    {
     "name": "stdout",
     "output_type": "stream",
     "text": [
      "select distinct metric_name from dbo.cc_actual_metrics_consolidated where ticker_code = 'LVS' and financial_year = 2018\n"
     ]
    }
   ],
   "source": [
    "import pyodbc\n",
    "\n",
    "server = 'yatcru9wf3.database.windows.net'\n",
    "database = 'BA'\n",
    "username = 'kagadmin'\n",
    "password = '#+E5tANDu5e2k18#'\n",
    "cnxn = pyodbc.connect('DRIVER={ODBC Driver 17 for SQL Server};SERVER='+server+';DATABASE='+database+';UID='+username+';PWD=' + password)\n",
    "cursor = cnxn.cursor()\n",
    "ticker_code = \"'\"+'LVS'+\"'\"\n",
    "year = 2018\n",
    "    # quarter = \"'\"+quarter+\"'\"\n",
    "    # value = \"'\"+str(value)+\"%\"+\"'\"\n",
    "    # value1 = \"'\"+str(int(value))+\"%\"+\"'\"\n",
    "    # value2 = \"'\"+str(round(value, 2))+\"%\"+\"'\"\n",
    "\n",
    "select_stmt1 = F\"select distinct metric_name from dbo.cc_actual_metrics_consolidated where ticker_code = {ticker_code} and financial_year = {year}\"\n",
    "print(select_stmt1)\n"
   ]
  },
  {
   "cell_type": "code",
   "execution_count": 11,
   "metadata": {},
   "outputs": [
    {
     "name": "stdout",
     "output_type": "stream",
     "text": [
      "Accounts Payable\n",
      "Accounts Receivable\n",
      "Adjusted EBITDA\n",
      "Adjusted EBITDA Before Rent Expense\n",
      "Adjusted EBITDA Margin (% of Total Revenues)\n",
      "ADR\n",
      "Cash & Short Term Equivalents\n",
      "Commissions\n",
      "Company Reported Mass Drop Growth\n",
      "Company Reported Mass Drop(In Thousands)\n",
      "Company Reported Mass Hold Percentage\n",
      "Company Reported VIP Rolling Chip Volume Growth\n",
      "Company Reported VIP Rolling Chip Volume(In Thousands)\n",
      "Corporate Expense/Other (May Include  ESO) (% of Total Revenues)\n",
      "Corporate Expense/Other (May Include ESO)\n",
      "Depreciation & Amortization\n",
      "Depreciation & Amortization (% of Total Revenues)\n",
      "Diluted Shares Outstanding\n",
      "Free Cash Flow\n",
      "Gross Slot Revenue\n",
      "Hotel Room Revenue\n",
      "Income Tax Expense\n",
      "Interest Expense\n",
      "Interest Income\n",
      "Inventories\n",
      "Mass Table Revenue\n",
      "Minority Interest\n",
      "Net Income\n",
      "Net Margin (% of Total Revenues)\n",
      "Occupancy\n",
      "Operating Cash Flow\n",
      "Operating Income\n",
      "Operating Margin  (% of Total Revenues)\n",
      "Other Revenue (Retail, Entertainment, F&B)\n",
      "Pre-Tax  Income\n",
      "Pre-Tax Margin (% of Total Revenues)\n",
      "Pro-Forma Earnings Per Share\n",
      "Property EBITDA\n",
      "Property EBITDA Margin (% of Total Revenues)\n",
      "Property, Plant & Equipment\n",
      "Rent Expense\n",
      "Revenues\n",
      "RevPar\n",
      "RevPar Growth\n",
      "Rooms\n",
      "Shareholder Equity\n",
      "Slot Handle Growth\n",
      "Slot Handle(In Thousands)\n",
      "Slot Hold\n",
      "Slots\n",
      "Stock Compensation \n",
      "Stock Compensation (% of Total Revenues)\n",
      "Table Drop growth\n",
      "Table Drop(In Thousands)\n",
      "Table Games\n",
      "Table Hold\n",
      "Tax Rate\n",
      "Total Assets\n",
      "Total Capital Expenditures\n",
      "Total Current Assets\n",
      "Total Current Liabilities\n",
      "Total Gross Gaming Revenue\n",
      "Total Liabilities\n",
      "Total Long Term Assets\n",
      "Total Long Term Liabilities\n",
      "Total Net Casino Revenue\n",
      "Total Net Gaming Revenue\n",
      "Total Table Revenue\n",
      "VIP Hold \n",
      "VIP Table Revenue\n",
      "Win per Slot per Day(In Thousands)\n",
      "Win per Table per Day(In Thousands)\n",
      "Working Capital\n"
     ]
    }
   ],
   "source": [
    " cursor.execute(select_stmt1)\n",
    " row = cursor.fetchone()\n",
    " while row:\n",
    "        res = row[0]\n",
    "        print(res)\n",
    "        row = cursor.fetchone()\n",
    "        #print(row)\n",
    "        \n",
    "        "
   ]
  },
  {
   "cell_type": "code",
   "execution_count": 7,
   "metadata": {},
   "outputs": [],
   "source": [
    "#a = \"ananna\"\n",
    "#print(F\"dhsdhfj {a}\")"
   ]
  },
  {
   "cell_type": "code",
   "execution_count": null,
   "metadata": {},
   "outputs": [],
   "source": [
    "\n",
    "\n",
    "\n"
   ]
  }
 ],
 "metadata": {
  "kernelspec": {
   "display_name": "Python 3",
   "language": "python",
   "name": "python3"
  },
  "language_info": {
   "codemirror_mode": {
    "name": "ipython",
    "version": 3
   },
   "file_extension": ".py",
   "mimetype": "text/x-python",
   "name": "python",
   "nbconvert_exporter": "python",
   "pygments_lexer": "ipython3",
   "version": "3.7.3"
  }
 },
 "nbformat": 4,
 "nbformat_minor": 2
}
