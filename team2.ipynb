{
 "cells": [
  {
   "cell_type": "code",
   "execution_count": 1,
   "metadata": {},
   "outputs": [
    {
     "data": {
      "application/javascript": [
       "IPython.notebook.set_autosave_interval(120000)"
      ]
     },
     "metadata": {},
     "output_type": "display_data"
    },
    {
     "name": "stdout",
     "output_type": "stream",
     "text": [
      "Autosaving every 120 seconds\n"
     ]
    }
   ],
   "source": [
    "%autosave 120"
   ]
  },
  {
   "cell_type": "code",
   "execution_count": 22,
   "metadata": {},
   "outputs": [
    {
     "data": {
      "text/plain": [
       "['C:\\\\Users\\\\admin\\\\thapovan\\\\Thapovan2\\\\Config.cfg']"
      ]
     },
     "execution_count": 22,
     "metadata": {},
     "output_type": "execute_result"
    }
   ],
   "source": [
    "import pandas as pd\n",
    "import xlrd\n",
    "import numpy as np\n",
    "import openpyxl as opx\n",
    "import glob\n",
    "import sys\n",
    "import datetime\n",
    "import xlwings as xl\n",
    "import copy\n",
    "from openpyxl.utils import range_boundaries\n",
    "from fuzzywuzzy import fuzz\n",
    "import pyodbc\n",
    "import math as math\n",
    "path = 'C:\\\\trial'\n",
    "ticker_list =[] \n",
    "folder = glob.glob(path + '\\\\*')\n",
    "company = [1]\n",
    "import ast\n",
    "c = 0\n",
    "import configparser\n",
    "con=configparser.ConfigParser()\n",
    "con.read(\"C:\\\\Users\\\\admin\\\\thapovan\\\\Thapovan2\\\\Config.cfg\")"
   ]
  },
  {
   "cell_type": "code",
   "execution_count": 23,
   "metadata": {},
   "outputs": [
    {
     "name": "stderr",
     "output_type": "stream",
     "text": [
      "[nltk_data] Downloading package wordnet to\n",
      "[nltk_data]     C:\\Users\\admin\\AppData\\Roaming\\nltk_data...\n",
      "[nltk_data]   Package wordnet is already up-to-date!\n",
      "[nltk_data] Downloading package stopwords to\n",
      "[nltk_data]     C:\\Users\\admin\\AppData\\Roaming\\nltk_data...\n",
      "[nltk_data]   Package stopwords is already up-to-date!\n"
     ]
    }
   ],
   "source": [
    "import pandas as pd\n",
    "import os\n",
    "import gensim\n",
    "from gensim.utils import simple_preprocess\n",
    "from gensim.parsing.preprocessing import STOPWORDS\n",
    "from nltk.stem import WordNetLemmatizer, SnowballStemmer\n",
    "from nltk.stem.porter import *\n",
    "from nltk import PorterStemmer\n",
    "stemmer = PorterStemmer()\n",
    "import numpy as np\n",
    "np.random.seed(2018)\n",
    "import nltk\n",
    "from nltk.stem.porter import PorterStemmer\n",
    "from nltk.stem.wordnet import WordNetLemmatizer\n",
    "nltk.download('wordnet')\n",
    "lem = WordNetLemmatizer()\n",
    "stem = PorterStemmer()\n",
    "import re\n",
    "import nltk\n",
    "nltk.download('stopwords')\n",
    "from nltk.corpus import stopwords\n",
    "from nltk.stem.porter import PorterStemmer\n",
    "from nltk.tokenize import RegexpTokenizer\n",
    "from nltk.stem.wordnet import WordNetLemmatizer\n",
    "stop_words = set(stopwords.words(\"english\"))\n",
    "new_words = [\"using\", \"show\", \"result\", \"large\", \"also\", \"iv\", \"one\", \"two\", \"new\", \"previously\", \"shown\"]\n",
    "stop_words = stop_words.union(new_words)\n",
    "import time"
   ]
  },
  {
   "cell_type": "code",
   "execution_count": 24,
   "metadata": {},
   "outputs": [],
   "source": [
    "os.chdir(\"C:\\\\Users\\\\admin\\\\thapovan\\\\Thapovan2\\\\Corpus\")\n",
    "corpus_list = glob.glob(\"C:\\\\Users\\\\admin\\\\thapovan\\\\Thapovan2\\\\Corpus\\*csv\")\n",
    "excel_files =  glob.glob(\"C:\\\\trial\\\\2018\\\\may\\\\2 MAY\\\\lvs\\\\*xlsx\")"
   ]
  },
  {
   "cell_type": "code",
   "execution_count": 43,
   "metadata": {},
   "outputs": [],
   "source": [
    "def safe_run(func):\n",
    "\n",
    "    def func_wrapper(*args, **kwargs):\n",
    "\n",
    "        try:\n",
    "           return func(*args, **kwargs)\n",
    "\n",
    "        except OperationalError as e:\n",
    "            server = ast.literal_eval(con.get(\"Setting\",\"server\"))\n",
    "            database = ast.literal_eval(con.get(\"Setting\",\"database\"))\n",
    "            username = ast.literal_eval(con.get(\"Setting\",\"username\"))\n",
    "            password = ast.literal_eval(con.get(\"Setting\",\"password\"))\n",
    "            cnxn = pyodbc.connect('DRIVER={ODBC Driver 17 for SQL Server};SERVER='+server+';DATABASE='+database+';UID='+username+';PWD='+ password)\n",
    "            cursor = cnxn.cursor()\n",
    "            return func(*args, **kwargs)\n",
    "\n",
    "    return func_wrapper"
   ]
  },
  {
   "cell_type": "code",
   "execution_count": 27,
   "metadata": {},
   "outputs": [],
   "source": [
    "def spinning_cursor():\n",
    "  #while True:\n",
    "    for cursor in '\\\\-/|':\n",
    "      time.sleep(0.3)\n",
    "      # Use '\\r' to move cursor back to line beginning\n",
    "      # Or use '\\b' to erase the last character\n",
    "      sys.stdout.write('\\r{}'.format(cursor))\n",
    "      # Force Python to write data into terminal."
   ]
  },
  {
   "cell_type": "code",
   "execution_count": 28,
   "metadata": {},
   "outputs": [],
   "source": [
    "data1 = pd.read_csv(\"values1.csv\", error_bad_lines=False)\n",
    "data = pd.read_csv(\"Thapovan_data.csv\", error_bad_lines=False)"
   ]
  },
  {
   "cell_type": "code",
   "execution_count": null,
   "metadata": {},
   "outputs": [],
   "source": []
  },
  {
   "cell_type": "code",
   "execution_count": null,
   "metadata": {},
   "outputs": [],
   "source": []
  },
  {
   "cell_type": "code",
   "execution_count": null,
   "metadata": {},
   "outputs": [],
   "source": [
    "  "
   ]
  },
  {
   "cell_type": "code",
   "execution_count": 29,
   "metadata": {},
   "outputs": [],
   "source": [
    "def p():\n",
    "    pass"
   ]
  },
  {
   "cell_type": "code",
   "execution_count": 30,
   "metadata": {},
   "outputs": [],
   "source": [
    "#connection to database:\n",
    "server = ast.literal_eval(con.get(\"Setting\",\"server\"))\n",
    "database = ast.literal_eval(con.get(\"Setting\",\"database\"))\n",
    "username = ast.literal_eval(con.get(\"Setting\",\"username\"))\n",
    "password = ast.literal_eval(con.get(\"Setting\",\"password\"))\n",
    "cnxn = pyodbc.connect('DRIVER={ODBC Driver 17 for SQL Server};SERVER='+server+';DATABASE='+database+';UID='+username+';PWD='+ password)\n",
    "cursor = cnxn.cursor()"
   ]
  },
  {
   "cell_type": "code",
   "execution_count": 31,
   "metadata": {},
   "outputs": [],
   "source": [
    "\n",
    "data = []\n",
    "#function which get information of file using its path and return 5 elements(year, month,date,ticker code,analyst name)\n",
    "def formating(filen):\n",
    "    data = filen.replace(path, '').split('\\\\')\n",
    "    del data[0]\n",
    "    del data[3]\n",
    "    if '-' in data[-1]:\n",
    "        temp = (data[-1].split('.')[0]).split('-')\n",
    "    elif '_' in data[-1]:\n",
    "        temp = (data[-1].split('.')[0]).split('_')\n",
    "    else:\n",
    "        temp = (data[-1].split('.')[0]).split(' ')\n",
    "    del data[-1]\n",
    "    data.append(temp[0])\n",
    "    data.append(temp[1])\n",
    "    print(data)\n",
    "    return(data)"
   ]
  },
  {
   "cell_type": "code",
   "execution_count": 32,
   "metadata": {},
   "outputs": [],
   "source": [
    "\n",
    "#defined variable which help us to recognize year and quater of given column\n",
    "\n",
    "year_pattern_int=[]\n",
    "year_pattern_float=[]\n",
    "year_pattern_2di=[]\n",
    "quater_pattern=ast.literal_eval(con.get(\"Setting\",\"quater_pattern\"))\n",
    "bscf_names=ast.literal_eval(con.get(\"Setting\",\"bscf_names\"))\n",
    "#bscf_names=[\"balancesheet\",\"cashflows\",\"bs&cf\",\"cf&bs\",\"bsheet\",\"balancesheet&cashflow\",\"cashflow&balance sheet\",\"cash&balance\",\"adjustedbs\",\"annualbs&cf\",\"annualcf&bs\"]\n",
    "\n",
    "check_list = ast.literal_eval(con.get(\"Setting\",\"check_list\"))\n",
    "for i in range(2000,2031):\n",
    "    year_pattern_int.append(i)\n",
    "    year_pattern_float.append(float(i))\n",
    "    if i-2000<10:\n",
    "        year_pattern_2di.append('0'+str(i-2000))\n",
    "    else:\n",
    "        year_pattern_2di.append(str(i-2000))\n"
   ]
  },
  {
   "cell_type": "code",
   "execution_count": 33,
   "metadata": {},
   "outputs": [],
   "source": [
    "# type of main function\n",
    "#@safe_run\n",
    "def function1(excel_file,path_list):\n",
    "    #read excel file using openpyxl\n",
    "    wb=opx.load_workbook(excel_file,data_only=True)\n",
    "    print(\"Hi\")\n",
    "    sheet_tobechecked=wb.sheetnames #getting all the sheet name\n",
    "    nonhidden=[]\n",
    "    startrow={}\n",
    "    print(\"All the sheets prestent in the file are: \")\n",
    "    print(sheet_tobechecked)\n",
    "    #this part helps to ignore hidden sheets and to take related to BS , Cf and IS\n",
    "    names=[]\n",
    "    for i in range(0, len(sheet_tobechecked)):\n",
    "        curr_sheet = wb[sheet_tobechecked[i]]\n",
    "        if curr_sheet.sheet_state != 'hidden':\n",
    "            nonhidden.append(sheet_tobechecked[i])\n",
    "            if sheet_tobechecked[i].lower()=='bs' or sheet_tobechecked[i].lower()=='cf' or sheet_tobechecked[i].lower()=='model':\n",
    "                names.append(sheet_tobechecked[i])\n",
    "            else:\n",
    "                count_nobscf=1\n",
    "                for nam in bscf_names:\n",
    "                    if fuzz.partial_token_set_ratio(sheet_tobechecked[i].lower(),nam)>=80:\n",
    "                        names.append(sheet_tobechecked[i])\n",
    "    \n",
    "    sheet_tobechecked = names # all the sheet which are important to us\n",
    "    \n",
    "    #if no sheet found then return giving error as sheet_name_fault\n",
    "    if len(sheet_tobechecked)<=0:\n",
    "        return (2) # that means there is problem\n",
    "        '''print(nonhidden)\n",
    "        while True:\n",
    "            sheee=input(\"Enter the sheet name U want to process from above or for exit input'e' \")\n",
    "            if sheee!='e':\n",
    "                sheet_tobechecked.append(sheee)\n",
    "            else:\n",
    "                break'''\n",
    "    \n",
    "    sheet_tobechecked=list(set(sheet_tobechecked))# to remove repeated sheet names\n",
    "    print(\"Sheets to be checked: \")\n",
    "    #print(sheet_tobechecked)\n",
    "    #for i in range(0,len(sheet_tobechecked)):\n",
    "       # print(str(i) + \") \" + sheet_tobechecked[i])\n",
    "    tst = 0\n",
    "    while tst == 0:\n",
    "        for i in range(0,len(sheet_tobechecked)):\n",
    "            print(str(i) + \") \" + sheet_tobechecked[i])\n",
    "        a=input(\"if you want to continue with these sheets, type [Y]es. If you want to remove some sheets, type the corresponding number seperated by a comma(,)\")\n",
    "        if(a==\"Y\"):\n",
    "            tst == 1\n",
    "            break\n",
    "        else:\n",
    "            t =[]\n",
    "            t=a.split(\",\")\n",
    "            t1 =[]\n",
    "        for i in range(0,len(t)):\n",
    "            t[i] = int(t[i])\n",
    "            t1.append(sheet_tobechecked[t[i]])\n",
    "        for i in t1:\n",
    "            if i in sheet_tobechecked:\n",
    "                sheet_tobechecked.remove(i)\n",
    "    #defining variable\n",
    "    year_pre,quater_pre,q4_check_pre='','',0\n",
    "    \n",
    "    #unmerging all cells of every sheet of a file\n",
    "    for every_sheet in sheet_tobechecked:\n",
    "        \n",
    "        startrow_no=startingrow(wb,every_sheet)-1\n",
    "        if startrow_no<0:\n",
    "            startrow[every_sheet]=0\n",
    "        else:\n",
    "            startrow[every_sheet]=startrow_no\n",
    "        \n",
    "        curr_sheet=wb[every_sheet]\n",
    "        merge_list=copy.deepcopy(curr_sheet.merged_cells.ranges)\n",
    "        for group in merge_list :\n",
    "            split_arr = group.coord.split(':')\n",
    "            min_col, min_row, max_col, max_row = range_boundaries(group.coord)\n",
    "            top_left_cell_value = curr_sheet[split_arr[0]].value\n",
    "            curr_sheet.unmerge_cells(group.coord)\n",
    "            for row in curr_sheet.iter_rows(min_col=min_col, min_row=min_row, max_col=max_col, max_row=max_row):\n",
    "                for cell in row:\n",
    "                    cell.value = top_left_cell_value\n",
    "    wb.save(excel_file) #the modified file is been overwritten (have to look over it afterward by changing path)\n",
    "    #print(\"excel\")\n",
    "    #display(excel_file)\n",
    "    for sheetno in range(0,len(sheet_tobechecked)):\n",
    "        print(sheet_tobechecked[sheetno])\n",
    "        #print(sheet_tobechecked[sheetno])\n",
    "        address_dataframe=pd.DataFrame(columns=['q1','q2','q3','q4','tl','Ex']) # defining lookup table\n",
    "        excel_data = pd.read_excel(excel_file,sheet_name=sheet_tobechecked[sheetno],header=None,skiprows=[i for i in range(0,startrow[sheet_tobechecked[sheetno]])])\n",
    "        pd.options.display.max_columns = None\n",
    "        pd.options.display.max_rows=None\n",
    "        #print(\"This is excel data\")\n",
    "        #display(excel_data)\n",
    "        \n",
    "        #formating the dataframe by removing column and row having less than 10 element\n",
    "        excel_data=excel_data.replace(0,np.nan)\n",
    "        excel_data=excel_data.dropna(axis=0,thresh=10)\n",
    "        excel_data=excel_data.dropna(axis=1,thresh=10)\n",
    "        excel_data=excel_data.reset_index(drop=True)\n",
    "        if(len(excel_data.columns)==0):\n",
    "            continue # this line was added to handle exceptions in the code\n",
    "        excel_data.columns = range(excel_data.shape[1])\n",
    "        pd.options.display.max_columns = None\n",
    "        pd.options.display.max_rows=None\n",
    "        #display(excel_data)\n",
    "        startrowno=0\n",
    "        print(\"..........10%\")\n",
    "        #getting defination of each column\n",
    "        #print(len(excel_data.columns))\n",
    "        if len(excel_data.columns)>10: #changed from 10 to 3\n",
    "            temp_dataframe=excel_data[:10] # the first 10 element of a column will tell us about it \n",
    "            for j in temp_dataframe:\n",
    "                list_ele=list(temp_dataframe[j])\n",
    "                knowledge=[]\n",
    "                colno=j\n",
    "                for i in list_ele:\n",
    "                    #overlook element if its nan,none, or weeks or days written in it\n",
    "                    if str(i)=='nan' or str(i)=='None' or type(i)==datetime.datetime or \"week\" in str(i) or \"day\" in str(i):\n",
    "                        a=1\n",
    "                    #take only element which are keywords to us (like FY2017,3Q17 etc.) or else break which means any value have been occured\n",
    "                    elif (type(i)==float and i not in year_pattern_float) or (type(i)==int and i not in year_pattern_int):\n",
    "                        startrowno=list_ele.index(i)\n",
    "                        break\n",
    "                    else:\n",
    "                        knowledge.append(i)\n",
    "                \n",
    "                # proces further if the list taken for defining the row is not empty \n",
    "                if len(knowledge)>0:\n",
    "                    \n",
    "                    year_got,quater_got,q4_check_got=about_q_year(knowledge)\n",
    "                        \n",
    "                    #here is a small assumtion (if we got Q4 and all the elementused to define column is same we will take the curent row as Total of particuar year) )\n",
    "                    if q4_check_got==1 and year_got==year_pre and quater_got==quater_pre and q4_check_got==q4_check_pre:\n",
    "                        year_final=year_got\n",
    "                        quater_final='TL'\n",
    "                        q4_check_final=1\n",
    "                    else:\n",
    "                        # or else everything will be consider as it was given has been found about it\n",
    "                        year_pre=year_got\n",
    "                        quater_pre=quater_got\n",
    "                        q4_check_pre=q4_check_got\n",
    "                        year_final=year_got\n",
    "                        quater_final=quater_got\n",
    "                        q4_check_final=q4_check_got                       \n",
    "                    \n",
    "                    #if only year is written and nothing about the quater we take that as Total for particular year\n",
    "                    if year_got!='' and (quater_got=='' or quater_got=='TL' or quater_pre=='TL' or quater_pre==''):\n",
    "                        quater_final='TL'\n",
    "                    \n",
    "                    #printing and making dataframe(lookup table) of information of each columns\n",
    "                    if year_final!='' and quater_final!='':\n",
    "                        got_cor=1 #means we got something\n",
    "                        #print(knowledge,\"===\",end=\"\")\n",
    "                        #print(\"belongs to \"+\"20\"+year_final,\" \"+quater_final)\n",
    "                        if '1' in quater_final:\n",
    "                            qval='q1'\n",
    "                        elif '2' in quater_final:\n",
    "                            qval='q2'\n",
    "                        elif '3' in quater_final:\n",
    "                            qval='q3'\n",
    "                        elif '4' in quater_final:\n",
    "                            qval='q4'\n",
    "                        else:\n",
    "                            qval='tl'\n",
    "                        try:\n",
    "                            address_dataframe.loc[\"20\"+year_final][qval]=[startrowno,colno]\n",
    "                        except Exception:\n",
    "                            address_dataframe.loc[\"20\"+year_final]='Nan'\n",
    "                            address_dataframe.loc[\"20\"+year_final][qval]=[startrowno,colno]                           \n",
    "                 \n",
    "        #display(address_dataframe)\n",
    "        print(\"..........20%\")\n",
    "        #db_connect()\n",
    "        #extra fro shoeing rows which doesnot match\n",
    "        not_present=pd.DataFrame(columns=excel_data.columns)\n",
    "        coll=0\n",
    "        \n",
    "        #this is to make a list of year and its respective column number from lookup take which has to consider\n",
    "        row_name_year=list(address_dataframe.index)\n",
    "        row_name_year.sort()\n",
    "        print(row_name_year)\n",
    "        if int(path_list[0])<int(row_name_year[-1]):\n",
    "            cur_yr=int(path_list[0])\n",
    "            count_yr=0\n",
    "            count = 0\n",
    "            metric_col=[]\n",
    "            par_year=[]\n",
    "            metric_row=20\n",
    "            year_tosearch=cur_yr\n",
    "            \n",
    "            lowest_year=min_year(\"'\"+path_list[3]+\"'\")\n",
    "\n",
    "            while (count_yr<6 and year_tosearch>=lowest_year):\n",
    "                year_tosearch=cur_yr-(count_yr+1)\n",
    "                val=address_dataframe['q1'][str(year_tosearch)]\n",
    "                if val!='Nan':\n",
    "                    if val[0]<metric_row:\n",
    "                        metric_row=val[0]\n",
    "                    metric_col.append(val[1])\n",
    "                    par_year.append(year_tosearch)\n",
    "                    count_yr+=1\n",
    "            print(\"Years considered:\")\n",
    "            print(par_year)\n",
    "            print(\"Columns used:\")\n",
    "            print(metric_col)\n",
    "            print(\"Start Row: \")\n",
    "            print(metric_row)\n",
    "            print(\"..........30%\")\n",
    "                \n",
    "\n",
    "            all_metric=set()\n",
    "            def_metrics = []\n",
    "            matched_metric = []\n",
    "            mid_matched =[]\n",
    "            maybe_metrics = []\n",
    "            no_metrics = []\n",
    "            if(type(excel_data.iloc[metric_row][0])==str):\n",
    "                c = 0\n",
    "            else:\n",
    "                c = 1    \n",
    "            metric_list =[]    \n",
    "            list_subs_found =[]\n",
    "            for rowss in range(metric_row,excel_data.shape[0]):\n",
    "                metric_found=[]\n",
    "                s_var = ['Macau','Venetian']\n",
    "                list_metric_found=[]\n",
    "                com_met=set()\n",
    "                a_metric=str(excel_data.iloc[rowss][c])\n",
    "                flag_sub = 0\n",
    "                for i in s_var:\n",
    "                    if i in a_metric:\n",
    "                        s = i\n",
    "                        flag_sub = 1\n",
    "                if flag_sub==0:\n",
    "                    if rowss>metric_row+5:\n",
    "                        for i in range(1,5):\n",
    "                            for j in s_var:\n",
    "                                if j in str(excel_data.iloc[rowss-i][c]):\n",
    "                                    s=j\n",
    "                                    flag_sub =1\n",
    "                            if flag_sub==1:    \n",
    "                                    break\n",
    "                if flag_sub==0: \n",
    "                    s = \"Unknown\"\n",
    "                for met_num in range(0,6):\n",
    "                    #getting the metric name wrt the year,quater,ticker and value send\n",
    "                    metric,subs_list=get_metric_name(par_year[met_num],path_list[3],excel_data.iloc[rowss][metric_col[met_num]],a_metric)\n",
    "                    #remove this if it fucks up\n",
    "                    for i in range(0,len(metric)):\n",
    "                        metric[i] = metric[i] +\"[\"+str(subs_list[i])+\"]\"\n",
    "                    metric = set(metric)\n",
    "                    subs_list = set(subs_list)\n",
    "                    com_met.update(metric)\n",
    "                    metric_list.extend(metric)\n",
    "                    list_metric_found.extend(metric)\n",
    "                    list_subs_found.extend(subs_list)\n",
    "                if com_met:\n",
    "                    spinning_cursor()\n",
    "                    #print(com_met)\n",
    "                    #print(list_metric_found)\n",
    "                for un_met in com_met:\n",
    "                    #if min 60% of them says that yes the values are of  particlar metric we take it \n",
    "                    if list_metric_found.count(un_met)/6 >= 0.6:\n",
    "                        a = un_met +\"--->\"+a_metric+ \"--->\"+ str(rowss) +\"--->\"+ s\n",
    "                        metric_found.append(un_met)\n",
    "                        matched_metric.append(un_met)\n",
    "                        def_metrics.append(a)\n",
    "                    elif list_metric_found.count(un_met)/6 >= 0.4 and list_metric_found.count(un_met)/6 <0.6:\n",
    "                        if(un_met not in matched_metric): \n",
    "                            mid_matched.append(un_met)\n",
    "                            a = un_met +\"--->\"+a_metric+ \"--->\"+ str(rowss) +\"--->\"+ s\n",
    "                            maybe_metrics.append(a)\n",
    "                    elif list_metric_found.count(un_met)/6 < 0.4:\n",
    "                        if(un_met not in matched_metric and un_met not in mid_matched):\n",
    "                            no_metrics.append(un_met)\n",
    "                if metric_found:\n",
    "                    #print(rowss,metric_found)\n",
    "                    all_metric.update(metric_found)\n",
    "                else:\n",
    "                    not_present.loc[coll]=list(excel_data.loc[rowss])\n",
    "                    coll+=1\n",
    "                \n",
    "            #print(all_metric,len(all_metric))#printing all mertric found in database \n",
    "            print(\"..........90%\")\n",
    "            #metric_db=get_metriclist_from_db(path_list[0],path_list[3])\n",
    "            #print(\"metric not in actuals---\")\n",
    "            #print(list(set(metric_db)-set(all_metric)))# all metric we couldn't find wrt to a ticker\n",
    "            #print(\"metric not with respect to analyst\")\n",
    "            #print(list(set(get_metriclist_wrt_analyst(path_list[3],path_list[4]))-set(all_metric)))#metric which we couldn't finf wrt to analyst\n",
    "            # the percentge accuracy will be calculate wby no of metric_found by us divided by total number of metric wrt analyst \n",
    "            #print()\n",
    "            #print()\n",
    "            #print(\"ACCURACY==\")\n",
    "            #all_metric = list(all_metric)\n",
    "            #print(\"Number of total element in Actual DB=\", len(metric_db))\n",
    "            #print(\"Number of metric found by us=\",len(all_metric))\n",
    "            #for i in range(0,len(all_metric)):\n",
    "            #    all_metric[i] = all_metric[i].replace(all_metric[i][all_metric[i].find(\"[\")+1:all_metric[i].find(\"]\")],\"\").strip(\"][\")\n",
    "            #print(\"accuracy wrt to Actual=\",len(list(set(metric_db)&set(all_metric)))*100/len(metric_db))\n",
    "            #print()\n",
    "            #print(\"Number of total element in Estimated DB wrt Analyst=\", len(get_metriclist_wrt_analyst(path_list[3],path_list[4])))\n",
    "            #z=set(get_metriclist_wrt_analyst(path_list[3],path_list[4]))\n",
    "            #print(\"Number of metric found by us=\",len(z&set(all_metric)))\n",
    "            #print(\"Accuracy with respect to estimates=\",len(z&set(all_metric))*100/len(z))\n",
    "            print(\"list of definate metrics \\n\", list(set(def_metrics)))\n",
    "            print()\n",
    "            print(\"list of semi-definate metrics \\n\", list(set(maybe_metrics)))\n",
    "            print()\n",
    "            print(\"list of Unmatched metrics \\n\", list(set(no_metrics)))\n",
    "            m_metrics = list(set(maybe_metrics))\n",
    "            d_metrics = list(set(def_metrics))\n",
    "            print()\n",
    "            print(\"The partially matched metrics can be mapped as so\")\n",
    "            print()\n",
    "            for metric in m_metrics:\n",
    "                poss = []\n",
    "                poss = metric.split(\"--->\")\n",
    "                col=[c]\n",
    "                for i in range(0,6):\n",
    "                    col.append(metric_col[i])\n",
    "                temp_metric = pd.DataFrame()\n",
    "                temp_metric=temp_metric.append(excel_data.loc[[int(poss[2])],col[0:7]])\n",
    "                temp_metric.rename(columns={col[0]:'Name',col[1]:str(par_year[0])+'Q1',col[2]:str(par_year[1])+'Q1',col[3]:str(par_year[2])+'Q1',col[4]:str(par_year[3])+'Q1',col[5]:str(par_year[4])+'Q1',col[6]:str(par_year[5])+'Q1'},inplace=True)\n",
    "                yr = str(par_year[0:6]).strip('][').replace(\" ,\",\"\")\n",
    "                #display(temp_metric)\n",
    "                sub = int(poss[0][poss[0].find(\"[\")+1:poss[0].find(\"]\")])\n",
    "                poss0 = poss[0].replace(poss[0][poss[0].find(\"[\")+1:poss[0].find(\"]\")],\"\").strip(\"][\")\n",
    "                select_stmt1 = F\"select value from dbo.cc_actual_metrics_consolidated where \" \\\n",
    "                    F\"metric_name='{poss0}' and subsidiary_id ={sub} and quarter = 'Q1' and ticker_code ='{path_list[3]}' and financial_year in (select convert(int,id) from [adm_fnSplitter]('{yr}')) order by financial_year\"  \n",
    "                cursor.execute(select_stmt1)\n",
    "                row = cursor.fetchone()\n",
    "                m_l =[]\n",
    "                m_l1 = [poss0]\n",
    "                while row:\n",
    "                    m_l.append(str(row.value))\n",
    "                    row= cursor.fetchone()\n",
    "                m_l.reverse()\n",
    "                m_l1.extend(m_l)\n",
    "                if(len(m_l1)<7):\n",
    "                    n = 7-len(m_l1)\n",
    "                    for i in range(0,n):\n",
    "                        m_l1.append(\"None\")\n",
    "                print(m_l1)\n",
    "                temp_metric = temp_metric.append(pd.Series(m_l1, index=['Name',str(par_year[0])+'Q1',str(par_year[1])+'Q1',str(par_year[2])+'Q1',str(par_year[3])+'Q1',str(par_year[4])+'Q1',str(par_year[5])+'Q1']), ignore_index=True) \n",
    "                types = [\"Analyst metric\",\"Database metric\"]\n",
    "                temp_metric['Type'] = types\n",
    "                #temp_metric=temp_metric.set_index('Type')\n",
    "                display(temp_metric)\n",
    "                #print(m_l)  \n",
    "                #print(f\"{'DB metric name and subsidiary id =':<30}{poss[0]:>15}\",\n",
    "                      #f\"\\n{'Analyst metric name =':<30}{poss[1]:>15}\",\n",
    "                      #f\"\\n{'Row Number in excel =':<30}{poss[2]:>15}\",\n",
    "                      #f\"\\n{'Row Number in excel =':<30}{poss[3]:>15}\")\n",
    "                print(\"DB metric name and subsidiary id: \\n\" + poss[0])\n",
    "                print(\"Analyst metric name: \\n\" + poss[1])\n",
    "                print(\"Row Number in excel: \\n\" + poss[2])\n",
    "                print(\"Subsidiary Name from Analyst: \\n\" + poss[3])\n",
    "                ip = input(\"enter [Y]es if you think this is a valid match and [N]o if you think it can be bypassed\")\n",
    "                if(ip is \"Y\"):\n",
    "                    def_metrics.append(metric)\n",
    "                else:\n",
    "                    continue\n",
    "            #matched_df = pd.DataFrame()\n",
    "            print(\"the def matched metrics are\")\n",
    "            for m in d_metrics:\n",
    "                poss = []\n",
    "                poss = m.split(\"--->\")\n",
    "                col=[c]\n",
    "                an_metric = pd.DataFrame(columns = ['Name',str(par_year[0])+'Q1',str(par_year[1])+'Q1',str(par_year[2])+'Q1',str(par_year[3])+'Q1',str(par_year[4])+'Q1',str(par_year[5])+'Q1'])\n",
    "                temp_metric = pd.DataFrame()\n",
    "                columns = ['Name',str(par_year[0])+'Q1',str(par_year[1])+'Q1',str(par_year[2])+'Q1',str(par_year[3])+'Q1',str(par_year[4])+'Q1',str(par_year[5])+'Q1']\n",
    "                for i in range(0,6):\n",
    "                    col.append(metric_col[i])\n",
    "                temp_metric=temp_metric.append(excel_data.loc[[int(poss[2])],col[0:7]])\n",
    "                temp_metric.rename(columns={col[0]:'Name',col[1]:str(par_year[0])+'Q1',col[2]:str(par_year[1])+'Q1',col[3]:str(par_year[2])+'Q1',col[4]:str(par_year[3])+'Q1',col[5]:str(par_year[4])+'Q1',col[6]:str(par_year[5])+'Q1'},inplace=True)\n",
    "                #display(temp_metric)  \n",
    "                inx = metric_list.index(poss[0])\n",
    "                sub = int(poss[0][poss[0].find(\"[\")+1:poss[0].find(\"]\")])\n",
    "                poss0 = poss[0].replace(poss[0][poss[0].find(\"[\")+1:poss[0].find(\"]\")],\"\").strip(\"][\")\n",
    "                #print(sub)\n",
    "                if sub is not None and sub is not \"None\":    \n",
    "                    select_stmt1 = F\"select value from dbo.cc_actual_metrics_consolidated where \" \\\n",
    "                        F\"metric_name = '{poss0}' and subsidiary_id = {sub} and ticker_code = '{path_list[3]}' and quarter = 'Q1' and financial_year in (select convert(int,id) from [adm_fnSplitter]('2012,2013,2014,2015,2016,2017')) order by financial_year\"\n",
    "                else:\n",
    "                    select_stmt1 = F\"select value from dbo.cc_actual_metrics_consolidated where \" \\\n",
    "                        F\"metric_name = '{poss0}' and ticker_code = '{path_list[3]}' and quarter = 'Q1' and financial_year in (select convert(int,id) from [adm_fnSplitter]('2012,2013,2014,2015,2016,2017')) order by financial_year\"\n",
    "                cursor.execute(select_stmt1)\n",
    "                row = cursor.fetchone()\n",
    "                m_l =[]\n",
    "                m_l1 = [poss0]\n",
    "                while row:\n",
    "                    m_l.append(str(row.value))\n",
    "                    row= cursor.fetchone()\n",
    "                m_l.reverse()\n",
    "                m_l1.extend(m_l)\n",
    "                if(len(m_l1)<7):\n",
    "                    n = 7-len(m_l1)\n",
    "                    for i in range(0,n):\n",
    "                        m_l1.append(\"None\")\n",
    "                print(m_l1)\n",
    "                temp_metric = temp_metric.append(pd.Series(m_l1, index=['Name',str(par_year[0])+'Q1',str(par_year[1])+'Q1',str(par_year[2])+'Q1',str(par_year[3])+'Q1',str(par_year[4])+'Q1',str(par_year[5])+'Q1']), ignore_index=True) \n",
    "                types = [\"Analyst metric\",\"Database metric\"]\n",
    "                temp_metric['Type'] = types\n",
    "                #temp_metric=temp_metric.set_index('Type')\n",
    "                display(temp_metric)\n",
    "                #print(m_l)\n",
    "                #print(f\"{'DB metric name and subsidiary id =':<30}{poss[0]:>15}\",\n",
    "                      #f\"\\n{'Analyst metric name =':<30}{poss[1]:>15}\",\n",
    "                      #f\"\\n{'Row Number in excel =':<30}{poss[2]:>15}\",\n",
    "                      #f\"\\n{'Row Number in excel =':<30}{poss[3]:>15}\")\n",
    "                print(\"DB metric name and subsidiary id: \\n\" + poss[0])\n",
    "                print(\"Analyst metric name: \\n\" + poss[1])\n",
    "                print(\"Row Number in excel: \\n\" + poss[2])\n",
    "                print(\"Subsidiary Name from Analyst: \\n\" + poss[3])\n",
    "                #matched_df = matched_df.append(excel_data.loc[[int(poss[2])],col[0:7]], ignore_index = True)\n",
    "            print()\n",
    "            #print(\"The definately matched metrics are\")\n",
    "            print()\n",
    "            #display(matched_df)\n",
    "            #print(\"The matches made are\")\n",
    "            #for m in def_metrics:\n",
    "            #   print(m)\n",
    "            #display(not_present)\n",
    "    \n",
    "        \n",
    "        cnt =0\n",
    "        l = []\n",
    "        for i in def_metrics:\n",
    "            p = []\n",
    "            p = i.split(\"--->\")\n",
    "            l.append(p)\n",
    "        final_db = pd.DataFrame(l,columns =['Database_metric','Analyst_metric','Row Number','Subsidiary Name'])\n",
    "        d = list(final_db['Analyst_metric'])\n",
    "        A= []\n",
    "        for i in d:\n",
    "            if d.count(i)>1 and i not in A:\n",
    "                display(final_db.loc[final_db['Analyst_metric']==i])\n",
    "                inp=input(\"Enter the rows you want to make the equation with, seperated by a comma (,). If you do not want to make an equation, press N\")\n",
    "                if inp is 'N':\n",
    "                    l = list(final_db.loc[final_db['Analyst_metric']==i].index)\n",
    "                    final_db = final_db.drop(l, axis =0)\n",
    "                    final_db.reset_index(drop = True)\n",
    "                else:\n",
    "                    inp1 = inp.split(\",\")\n",
    "                    for j in range(0,len(inp1)):\n",
    "                        inp1[j] = int(inp1[j])\n",
    "                    l = list(final_db.loc[final_db['Analyst_metric']==i].index)\n",
    "                    for k in inp1:\n",
    "                        l.remove(k)\n",
    "                    final_db = final_db.drop(l,axis=0)\n",
    "                    final_db.reset_index(drop = True)\n",
    "                A.append(i)\n",
    "        #display(final_db)\n",
    "        final_flag ='N'\n",
    "        print(\"The list of matches to be thrown into the database are: \")\n",
    "        final_db = final_db[['Analyst_metric','Database_metric','Row Number','Subsidiary Name']]\n",
    "        while final_flag is not 'Y':\n",
    "            display(final_db)\n",
    "            inp = input(\"If you are happy with these values to be thrown into the database, type [Y]. If not, type the row numbers seperated by a comma (,)\\n\")\n",
    "            if inp is 'Y':\n",
    "                final_flag = 'Y'\n",
    "                continue\n",
    "            else:\n",
    "                fin =[]\n",
    "                fin = inp.split(\",\")\n",
    "            for i in range(0,len(fin)):\n",
    "                fin[i] = int(fin[i])\n",
    "            final_db = final_db.drop(fin,axis = 0)    \n",
    "    if got_cor:\n",
    "        return 0\n",
    "    else:\n",
    "        return 1\n",
    "   \n",
    "    '''qw=input()\n",
    "            if qw=='q':\n",
    "                sys.exit()'''\n"
   ]
  },
  {
   "cell_type": "code",
   "execution_count": 34,
   "metadata": {},
   "outputs": [],
   "source": [
    "\n",
    "#get the minimum year present in dtabase for given ticker\n",
    "def min_year(ticker):\n",
    "    select_stmt1 = F\" select distinct financial_year from dbo.cc_actual_metrics_consolidated where ticker_code={ticker} order by financial_year\"\n",
    "    cursor.execute(select_stmt1)\n",
    "    row = cursor.fetchone()\n",
    "    res_array = []\n",
    "    while row:\n",
    "        res_array.append(row[0])\n",
    "        row = cursor.fetchone()\n",
    "    #print(\"Minimum year present in the data base for the given ticker: \")    \n",
    "    #print(res_array[0])\n",
    "    return(res_array[0])\n"
   ]
  },
  {
   "cell_type": "code",
   "execution_count": null,
   "metadata": {},
   "outputs": [],
   "source": []
  },
  {
   "cell_type": "code",
   "execution_count": 35,
   "metadata": {},
   "outputs": [],
   "source": [
    "@safe_run\n",
    "def get_metric_name (year,ticker,value,a_metric,quarter='Q1'):\n",
    "    flag = 0\n",
    "    flag_not_found = 1\n",
    "    possible_list = \"\"\n",
    "    try:\n",
    "        index = ticker_dictionary[ticker_dictionary['trial']==a_metric].index.item()\n",
    "        possible_list = ticker_dictionary['matches'][index]\n",
    "        param = possible_list.strip(\"][\").replace(\"'\",\"\").replace(\", \",\",\").replace(\" ,\",\",\")\n",
    "        flag = 1\n",
    "    except:\n",
    "        pass\n",
    "    #Also write a conditional if statement for the case of an empty list \n",
    "    ticker_code = \"'\"+ticker+\"'\"\n",
    "    year = year\n",
    "    quarter = \"'\"+quarter+\"'\"\n",
    "    if type(value)==int or (type(value)==float and str(value)!='nan'):\n",
    "        if abs(value)>=1:\n",
    "            if abs(value) in [1,2,3,4,5,6,7,8,9] and type(value) is not float:\n",
    "                valueo= \"'\"+str(value)+\"'\" #orginal value\n",
    "                value3 = \"'\"+str(-1*int(value))+\".%\"+\"'\" #integered with negation\n",
    "                if(len(possible_list)>2 and flag==1):\n",
    "                    select_stmt1 = F\"select distinct metric_name, subsidiary_id from dbo.cc_actual_metrics_consolidated where \" \\\n",
    "                        F\"metric_name in (select id from [adm_fnSplitter]('{param}')) and \" \\\n",
    "                        F\"ticker_code={ticker_code} and financial_year = {year} and quarter = {quarter} and \" \\\n",
    "                        F\"(value like {valueo} or value like {value3})\"   \n",
    "                else:\n",
    "                    select_stmt1 = F\"select distinct metric_name, subsidiary_id from dbo.cc_actual_metrics_consolidated where \" \\\n",
    "                        F\"ticker_code={ticker_code} and financial_year = {year} and quarter = {quarter} and \" \\\n",
    "                        F\"(value like {valueo} or value like {value3})\"\n",
    "                subs_list = []    \n",
    "                metric_list=[]\n",
    "                cursor.execute(select_stmt1)\n",
    "                row = cursor.fetchone()\n",
    "                while row:\n",
    "                    flag_not_found = 0\n",
    "                    metric_list.append(row.metric_name)\n",
    "                    subs_list.append(row.subsidiary_id)\n",
    "                    row = cursor.fetchone()\n",
    "            else:\n",
    "            #when value is greater than 1\n",
    "                valueo= \"'\"+str(value)+\"'\" #orginal value\n",
    "                value1 = \"'\"+str(int(value))+\".%\"+\"'\" # integered value\n",
    "                value2 = \"'\"+str(round(value, 2))+\"%\"+\"'\" #value when rounded upto 2\n",
    "                value3 = \"'\"+str(-1*int(value))+\".%\"+\"'\" #integered with negation\n",
    "                value4 = \"'\"+str(-1*round(value,2))+\"%\"+\"'\" # round upto 2 with negation\n",
    "                #print(valueo,value1,value2,value3,value4)\n",
    "                if(len(possible_list)>2 and flag==1):\n",
    "                    select_stmt1 = F\"select distinct metric_name, subsidiary_id from dbo.cc_actual_metrics_consolidated where \" \\\n",
    "                        F\"metric_name in (select id from [adm_fnSplitter]('{param}')) and \" \\\n",
    "                        F\"ticker_code={ticker_code} and financial_year = {year} and quarter = {quarter} and \" \\\n",
    "                        F\"(value like {valueo} or value like {value1} or value like {value2} or value like {value3} or value like {value4})\"   \n",
    "                else:\n",
    "                    select_stmt1 = F\"select distinct metric_name, subsidiary_id from dbo.cc_actual_metrics_consolidated where \" \\\n",
    "                        F\"ticker_code={ticker_code} and financial_year = {year} and quarter = {quarter} and \" \\\n",
    "                        F\"(value like {valueo} or value like {value1} or value like {value2} or value like {value3} or value like {value4})\"\n",
    "                subs_list = []    \n",
    "                metric_list=[]\n",
    "                cursor.execute(select_stmt1)\n",
    "                row = cursor.fetchone()\n",
    "                while row:\n",
    "                    flag_not_found = 0\n",
    "                    metric_list.append(row.metric_name)\n",
    "                    subs_list.append(row.subsidiary_id)\n",
    "                    row = cursor.fetchone()\n",
    "        else:\n",
    "            #if value less than 1\n",
    "            valueo= \"'\"+str(value*100)+\"'\" #orginal with 100 multiplied\n",
    "            value1 = \"'\"+str(int(value*100))+\".%\"+\"'\" # multiply by 100 and then integered\n",
    "            value3 = \"'\"+str(-1*int(value*100))+\".%\"+\"'\" # multiply by 100 and integer and negate it\n",
    "            #print(\"with 100\",valueo,value1,value3)\n",
    "            if(len(possible_list)>2 and flag==1):\n",
    "                select_stmt1 = F\"select distinct metric_name, subsidiary_id from dbo.cc_actual_metrics_consolidated where \" \\\n",
    "                    F\"metric_name in (select id from [adm_fnSplitter]('{param}')) and \" \\\n",
    "                    F\"ticker_code={ticker_code} and financial_year = {year} and quarter = {quarter} and \" \\\n",
    "                    F\"(value like {valueo} or value like {value1} or value like {value3})\"\n",
    "            else:\n",
    "                select_stmt1 = F\"select distinct metric_name, subsidiary_id from dbo.cc_actual_metrics_consolidated where \" \\\n",
    "                    F\"ticker_code={ticker_code} and financial_year = {year} and quarter = {quarter} and \" \\\n",
    "                    F\"(value like {valueo} or value like {value1} or value like {value3})\"\n",
    "            subs_list = []    \n",
    "            metric_list=[]\n",
    "            cursor.execute(select_stmt1)\n",
    "            row = cursor.fetchone()\n",
    "            flag_got_with_100=0\n",
    "            while row:\n",
    "                metric_list.append(row.metric_name)\n",
    "                subs_list.append(row.subsidiary_id)\n",
    "                row = cursor.fetchone()\n",
    "                flag_got_with_100=1\n",
    "\n",
    "            #if not flag_got_with_100:\n",
    "            valueo = \"'\"+str(value)+\"'\" #orginal value\n",
    "            value1 = \"'\"+str(round(value,2))+\"%\"+\"'\" # round upto 2\n",
    "            value3 = \"'\"+str(-1*round(value,2))+\"%\"+\"'\" # round upto 2  and negate it\n",
    "            #print(\"without 100\",valueo,value1,value3)\n",
    "            if(len(possible_list)>2 and flag==1):\n",
    "                select_stmt1 = F\"select distinct metric_name, subsidiary_id from dbo.cc_actual_metrics_consolidated where \" \\\n",
    "                    F\"metric_name in (select id from [adm_fnSplitter]('{param}')) and \" \\\n",
    "                    F\"ticker_code={ticker_code} and financial_year = {year} and quarter = {quarter} and \" \\\n",
    "                    F\"(value like {valueo} or value like {value1} or value like {value3})\"\n",
    "            else:\n",
    "                select_stmt1 = F\"select distinct metric_name, subsidiary_id from dbo.cc_actual_metrics_consolidated where \" \\\n",
    "                    F\"ticker_code={ticker_code} and financial_year = {year} and quarter = {quarter} and \" \\\n",
    "                    F\"(value like {valueo} or value like {value1} or value like {value3})\"\n",
    "            cursor.execute(select_stmt1)\n",
    "            row = cursor.fetchone()\n",
    "            while row:\n",
    "                #to_confirm\n",
    "                metric_list.append(row.metric_name)\n",
    "                subs_list.append(row.subsidiary_id)\n",
    "                row = cursor.fetchone()\n",
    "                flag_not_found = 0\n",
    "        if(flag_not_found == 1 and flag == 1):\n",
    "            if abs(value)>=1:\n",
    "                #when value is greater than 1\n",
    "                valueo= \"'\"+str(value)+\"'\" #orginal value\n",
    "                value1 = \"'\"+str(int(value))+\".%\"+\"'\" # integered value\n",
    "                value2 = \"'\"+str(round(value, 2))+\"%\"+\"'\" #value when rounded upto 2\n",
    "                value3 = \"'\"+str(-1*int(value))+\".%\"+\"'\" #integered with negation\n",
    "                value4 = \"'\"+str(-1*round(value,2))+\"%\"+\"'\" # round upto 2 with negation\n",
    "                select_stmt1 = F\"select distinct metric_name, subsidiary_id from dbo.cc_actual_metrics_consolidated where \" \\\n",
    "                    F\"metric_name not in (select id from [adm_fnSplitter]('{param}')) and \" \\\n",
    "                    F\"ticker_code={ticker_code} and financial_year = {year} and quarter = {quarter} and \" \\\n",
    "                    F\"(value like {valueo} or value like {value1} or value like {value2} or value like {value3} or value like {value4})\"\n",
    "                metric_list=[]\n",
    "                subs_list = []\n",
    "                cursor.execute(select_stmt1)\n",
    "                row = cursor.fetchone()\n",
    "                while row:\n",
    "                    metric_list.append(row.metric_name)\n",
    "                    subs_list.append(row.subsidiary_id)\n",
    "                    row = cursor.fetchone()\n",
    "            else:\n",
    "                #if value less than 1\n",
    "                valueo= \"'\"+str(value*100)+\"'\" #orginal with 100 multiplied\n",
    "                value1 = \"'\"+str(int(value*100))+\".%\"+\"'\" # multiply by 100 and then integered\n",
    "                value3 = \"'\"+str(-1*int(value*100))+\".%\"+\"'\" # multiply by 100 and integer and negate it  \n",
    "                select_stmt1 = F\"select distinct metric_name, subsidiary_id from dbo.cc_actual_metrics_consolidated where \" \\\n",
    "                    F\"metric_name not in (select id from [adm_fnSplitter]('{param}')) and \" \\\n",
    "                    F\"ticker_code={ticker_code} and financial_year = {year} and quarter = {quarter} and \" \\\n",
    "                    F\"(value like {valueo} or value like {value1} or value like {value3})\"\n",
    "                #print(\"with 100\",valueo,value1,value3)\n",
    "                metric_list=[]\n",
    "                subs_list = []\n",
    "                cursor.execute(select_stmt1)\n",
    "                row = cursor.fetchone()\n",
    "                flag_got_with_100=0\n",
    "                while row:\n",
    "                    metric_list.append(row.metric_name)\n",
    "                    subs_list.append(row.subsidiary_id)\n",
    "                    row = cursor.fetchone()\n",
    "                    flag_got_with_100=1\n",
    "                valueo = \"'\"+str(value)+\"'\" #orginal value\n",
    "                value1 = \"'\"+str(round(value,2))+\"%\"+\"'\" # round upto 2\n",
    "                value3 = \"'\"+str(-1*round(value,2))+\"%\"+\"'\" # round upto 2  and negate it\n",
    "                select_stmt1 = F\"select distinct metric_name, subsidiary_id from dbo.cc_actual_metrics_consolidated where \" \\\n",
    "                    F\"metric_name not in (select id from [adm_fnSplitter]('{param}')) and \" \\\n",
    "                    F\"ticker_code={ticker_code} and financial_year = {year} and quarter = {quarter} and \" \\\n",
    "                    F\"(value like {valueo} or value like {value1} or value like {value3})\"   \n",
    "                #print(\"without 100\",valueo,value1,value3)\n",
    "                cursor.execute(select_stmt1)\n",
    "                row = cursor.fetchone()\n",
    "                while row:\n",
    "                    #to_confirm\n",
    "                    metric_list.append(row.metric_name)\n",
    "                    subs_list.append(row.subsidiary_id)\n",
    "                    row = cursor.fetchone()\n",
    "        return(metric_list,subs_list)\n",
    "    else:\n",
    "        return([],[])\n"
   ]
  },
  {
   "cell_type": "code",
   "execution_count": 36,
   "metadata": {},
   "outputs": [],
   "source": [
    "#function which tells about the quater and year the particular column belongs to\n",
    "def about_q_year(checkar):\n",
    "    \n",
    "    checkar_duplicate=np.copy(checkar)\n",
    "    quater=''\n",
    "    year=''\n",
    "    year_flag=0\n",
    "    quater_flag=0\n",
    "    q4_check=0\n",
    "    checkar=[]\n",
    "    datetime_flag=1\n",
    "    for i_che in checkar_duplicate:\n",
    "        checkar.append(str(i_che))\n",
    "    \n",
    "    for i_che in range(0,len(checkar)):\n",
    "        \n",
    "        if not year_flag:\n",
    "            #checking if year is presenr in (2017,2016 format)\n",
    "            for j_y in year_pattern_int:\n",
    "                if str(j_y) in checkar[i_che]:\n",
    "                    year=str(j_y)[2:]\n",
    "                    checkar[i_che]=checkar[i_che].replace(str(j_y),'')\n",
    "                    checkar[i_che]=checkar[i_che].replace(year,'')\n",
    "                    year_flag=1\n",
    "                    break\n",
    "        if not year_flag:\n",
    "            #checking if the year is present in 2 digited format like 17,16)\n",
    "            for j_y in year_pattern_2di:\n",
    "                if str(j_y) in checkar[i_che]:\n",
    "                    year=str(j_y)\n",
    "                    checkar[i_che]=checkar[i_che].replace(year,'')\n",
    "                    year_flag=1\n",
    "                    break\n",
    "\n",
    "        if not quater_flag:\n",
    "            # getting info about the quater\n",
    "            for i_p in quater_pattern:\n",
    "                checkar[i_che]=checkar[i_che].replace(year,'')\n",
    "                checkar[i_che]=checkar[i_che].replace(\"20\"+year,'')\n",
    "                if i_p in checkar[i_che].lower():\n",
    "                    quater=i_p\n",
    "                    quater_flag=1\n",
    "                    break       \n",
    "        \n",
    "        if year_flag and quater_flag:\n",
    "            break\n",
    "    #returning the year and quater and if its 4th quatered or not\n",
    "    return(year,quater,q4_check)\n"
   ]
  },
  {
   "cell_type": "code",
   "execution_count": 37,
   "metadata": {},
   "outputs": [],
   "source": [
    "# funtion to avoid te rough work present in top and retutn the row no from which its important\n",
    "def startingrow(wb,sheet_name):\n",
    "    curr_sheet = wb[sheet_name]\n",
    "    flag = 0\n",
    "    row = 0\n",
    "    for col in curr_sheet.iter_cols(max_col=20,max_row=15):\n",
    "        for cell in col:\n",
    "            if cell.value is not None:\n",
    "                for data in check_list:\n",
    "                    if fuzz.partial_ratio(str(data),str(cell.value)) == 100:\n",
    "                        row = cell.row\n",
    "                        flag =1\n",
    "                        break\n",
    "                if flag == 1:\n",
    "                    break\n",
    "        if flag == 1:\n",
    "            break\n",
    "\n",
    "    #print(row)\n",
    "    return(row)"
   ]
  },
  {
   "cell_type": "code",
   "execution_count": 38,
   "metadata": {},
   "outputs": [],
   "source": [
    "#function which return all the metric anme with repect to ticker in actuals\n",
    "#@safe_run\n",
    "def get_metriclist_from_db(year, ticker):\n",
    "\n",
    "    ticker_code = \"'\"+ticker+\"'\"\n",
    "    year = year\n",
    "    select_stmt1 = F\"select distinct metric_name from dbo.cc_actual_metrics_consolidated where ticker_code = {ticker_code} \" \\\n",
    "        F\" and financial_year = {year}\"\n",
    "\n",
    "    cursor.execute(select_stmt1)\n",
    "    row = cursor.fetchone()\n",
    "    metric_list_comp = []\n",
    "    while row:\n",
    "        metric_list_comp.append(row[0])\n",
    "        row = cursor.fetchone()\n",
    "\n",
    "    return (metric_list_comp)"
   ]
  },
  {
   "cell_type": "code",
   "execution_count": 39,
   "metadata": {},
   "outputs": [],
   "source": [
    "#function which return aall the metric name wrt to analyst from estimated database\n",
    "@safe_run\n",
    "def get_metriclist_wrt_analyst(ticker,analyst):\n",
    "    ticker_code = \"'\"+ticker+\"'\"\n",
    "    analyst_name=\"'%\"+analyst+\"%'\"\n",
    "    select_stmt1 = F\" select distinct metric_name from [dbo].[cc_metrics_consolidated] where ticker_code = {ticker_code} and quarter='q1' and analyst_name like {analyst_name} order by metric_name\"\n",
    "    cursor.execute(select_stmt1)\n",
    "    row = cursor.fetchone()\n",
    "    res_array = []\n",
    "    while row:\n",
    "        res_array.append(row[0])\n",
    "        row = cursor.fetchone()\n",
    "    return(res_array)"
   ]
  },
  {
   "cell_type": "code",
   "execution_count": 45,
   "metadata": {
    "scrolled": false
   },
   "outputs": [
    {
     "name": "stdout",
     "output_type": "stream",
     "text": [
      "0) AAP-McClintock.xlsx\n",
      "1) ANF-Konik.xlsx\n",
      "2) AZO-Fassler.xlsx\n",
      "3) DPZ-Bernstein.xlsx\n",
      "4) LULU-Konik.xlsx\n",
      "5) LVS-Bain.xlsx\n",
      "6) LVS-Beynon.xlsx\n",
      "7) LVS-Curtis.xlsx\n",
      "8) LVS-Farley.xlsx\n",
      "9) LVS-Grambling.xlsx\n",
      "10) LVS-Hendrix.xlsx\n",
      "11) LVS-Katz.xlsx\n",
      "12) LVS-Kelley.xlsx\n",
      "13) LVS-McKnight.xlsx\n",
      "14) LVS-Rothman.xlsx\n",
      "15) LVS-Santarelli.xlsx\n",
      "16) LVS-Thomas Allen.xlsx\n",
      "17) LVS-Wieczwyski.xlsx\n",
      "18) SVU-Levy.xlsx\n",
      "19) ~$LVS-Bain.xlsx\n",
      "20) ~$LVS-Hendrix.xlsx\n",
      "Enter the serial number of the file you would like to process\n",
      "17\n",
      "C:\\trial\\2018\\may\\2 MAY\\lvs\\LVS-Wieczwyski.xlsx\n",
      "['2018', 'may', '2 MAY', 'LVS', 'Wieczwyski']\n",
      "The current ticker that is detected is  LVS\n",
      "Would you like to proceed with this ticker? [Y]//[N] Y\n",
      "Hi\n",
      "All the sheets prestent in the file are: \n",
      "['Annual', 'LVS Q Published', 'LVS Q Detail', 'LV Properties', 'Venetian Macau', 'Sands Macao', 'The Parisian', 'Four Seasons', 'Cotai Central', 'Marina Bay Singapore', 'Bethworks PA', 'Minority Int.', 'Balance', 'Cash Flows ', 'Interest']\n",
      "Sheets to be checked: \n",
      "0) LVS Q Published\n",
      "1) Balance\n",
      "2) LVS Q Detail\n",
      "3) Cash Flows \n",
      "4) Annual\n",
      "if you want to continue with these sheets, type [Y]es. If you want to remove some sheets, type the corresponding number seperated by a comma(,)Y\n",
      "LVS Q Published\n",
      "..........10%\n",
      "..........20%\n",
      "['2003', '2004', '2005', '2006', '2007', '2008', '2009', '2010', '2011', '2012', '2013', '2014', '2015', '2016', '2017', '2018', '2019', '2020']\n"
     ]
    },
    {
     "ename": "OperationalError",
     "evalue": "('08S01', '[08S01] [Microsoft][ODBC Driver 17 for SQL Server]Communication link failure (0) (SQLExecDirectW)')",
     "output_type": "error",
     "traceback": [
      "\u001b[1;31m---------------------------------------------------------------------------\u001b[0m",
      "\u001b[1;31mOperationalError\u001b[0m                          Traceback (most recent call last)",
      "\u001b[1;32m<ipython-input-45-b399b166a66a>\u001b[0m in \u001b[0;36m<module>\u001b[1;34m\u001b[0m\n\u001b[0;32m      9\u001b[0m \u001b[0mprint\u001b[0m\u001b[1;33m(\u001b[0m\u001b[1;34m\"The current ticker that is detected is \"\u001b[0m\u001b[1;33m,\u001b[0m \u001b[0mpath_list\u001b[0m\u001b[1;33m[\u001b[0m\u001b[1;36m3\u001b[0m\u001b[1;33m]\u001b[0m\u001b[1;33m)\u001b[0m\u001b[1;33m\u001b[0m\u001b[1;33m\u001b[0m\u001b[0m\n\u001b[0;32m     10\u001b[0m \u001b[0mticker_input\u001b[0m \u001b[1;33m=\u001b[0m \u001b[0minput\u001b[0m\u001b[1;33m(\u001b[0m\u001b[1;34m\"Would you like to proceed with this ticker? [Y]//[N] \"\u001b[0m\u001b[1;33m)\u001b[0m\u001b[1;33m\u001b[0m\u001b[1;33m\u001b[0m\u001b[0m\n\u001b[1;32m---> 11\u001b[1;33m \u001b[0mval\u001b[0m\u001b[1;33m=\u001b[0m\u001b[0mfunction1\u001b[0m\u001b[1;33m(\u001b[0m\u001b[0mfilen\u001b[0m\u001b[1;33m,\u001b[0m\u001b[0mpath_list\u001b[0m\u001b[1;33m)\u001b[0m\u001b[1;33m\u001b[0m\u001b[1;33m\u001b[0m\u001b[0m\n\u001b[0m\u001b[0;32m     12\u001b[0m \u001b[1;32mif\u001b[0m \u001b[0mval\u001b[0m\u001b[1;33m==\u001b[0m\u001b[1;36m1\u001b[0m\u001b[1;33m:\u001b[0m\u001b[1;33m\u001b[0m\u001b[1;33m\u001b[0m\u001b[0m\n\u001b[0;32m     13\u001b[0m     \u001b[0mprint\u001b[0m\u001b[1;33m(\u001b[0m\u001b[1;34m\"FAULT\"\u001b[0m\u001b[1;33m)\u001b[0m\u001b[1;33m\u001b[0m\u001b[1;33m\u001b[0m\u001b[0m\n",
      "\u001b[1;32m<ipython-input-33-f758936da5da>\u001b[0m in \u001b[0;36mfunction1\u001b[1;34m(excel_file, path_list)\u001b[0m\n\u001b[0;32m    191\u001b[0m             \u001b[0myear_tosearch\u001b[0m\u001b[1;33m=\u001b[0m\u001b[0mcur_yr\u001b[0m\u001b[1;33m\u001b[0m\u001b[1;33m\u001b[0m\u001b[0m\n\u001b[0;32m    192\u001b[0m \u001b[1;33m\u001b[0m\u001b[0m\n\u001b[1;32m--> 193\u001b[1;33m             \u001b[0mlowest_year\u001b[0m\u001b[1;33m=\u001b[0m\u001b[0mmin_year\u001b[0m\u001b[1;33m(\u001b[0m\u001b[1;34m\"'\"\u001b[0m\u001b[1;33m+\u001b[0m\u001b[0mpath_list\u001b[0m\u001b[1;33m[\u001b[0m\u001b[1;36m3\u001b[0m\u001b[1;33m]\u001b[0m\u001b[1;33m+\u001b[0m\u001b[1;34m\"'\"\u001b[0m\u001b[1;33m)\u001b[0m\u001b[1;33m\u001b[0m\u001b[1;33m\u001b[0m\u001b[0m\n\u001b[0m\u001b[0;32m    194\u001b[0m \u001b[1;33m\u001b[0m\u001b[0m\n\u001b[0;32m    195\u001b[0m             \u001b[1;32mwhile\u001b[0m \u001b[1;33m(\u001b[0m\u001b[0mcount_yr\u001b[0m\u001b[1;33m<\u001b[0m\u001b[1;36m6\u001b[0m \u001b[1;32mand\u001b[0m \u001b[0myear_tosearch\u001b[0m\u001b[1;33m>=\u001b[0m\u001b[0mlowest_year\u001b[0m\u001b[1;33m)\u001b[0m\u001b[1;33m:\u001b[0m\u001b[1;33m\u001b[0m\u001b[1;33m\u001b[0m\u001b[0m\n",
      "\u001b[1;32m<ipython-input-34-cdc3921eec8a>\u001b[0m in \u001b[0;36mmin_year\u001b[1;34m(ticker)\u001b[0m\n\u001b[0;32m      3\u001b[0m \u001b[1;32mdef\u001b[0m \u001b[0mmin_year\u001b[0m\u001b[1;33m(\u001b[0m\u001b[0mticker\u001b[0m\u001b[1;33m)\u001b[0m\u001b[1;33m:\u001b[0m\u001b[1;33m\u001b[0m\u001b[1;33m\u001b[0m\u001b[0m\n\u001b[0;32m      4\u001b[0m     \u001b[0mselect_stmt1\u001b[0m \u001b[1;33m=\u001b[0m \u001b[1;34mF\" select distinct financial_year from dbo.cc_actual_metrics_consolidated where ticker_code={ticker} order by financial_year\"\u001b[0m\u001b[1;33m\u001b[0m\u001b[1;33m\u001b[0m\u001b[0m\n\u001b[1;32m----> 5\u001b[1;33m     \u001b[0mcursor\u001b[0m\u001b[1;33m.\u001b[0m\u001b[0mexecute\u001b[0m\u001b[1;33m(\u001b[0m\u001b[0mselect_stmt1\u001b[0m\u001b[1;33m)\u001b[0m\u001b[1;33m\u001b[0m\u001b[1;33m\u001b[0m\u001b[0m\n\u001b[0m\u001b[0;32m      6\u001b[0m     \u001b[0mrow\u001b[0m \u001b[1;33m=\u001b[0m \u001b[0mcursor\u001b[0m\u001b[1;33m.\u001b[0m\u001b[0mfetchone\u001b[0m\u001b[1;33m(\u001b[0m\u001b[1;33m)\u001b[0m\u001b[1;33m\u001b[0m\u001b[1;33m\u001b[0m\u001b[0m\n\u001b[0;32m      7\u001b[0m     \u001b[0mres_array\u001b[0m \u001b[1;33m=\u001b[0m \u001b[1;33m[\u001b[0m\u001b[1;33m]\u001b[0m\u001b[1;33m\u001b[0m\u001b[1;33m\u001b[0m\u001b[0m\n",
      "\u001b[1;31mOperationalError\u001b[0m: ('08S01', '[08S01] [Microsoft][ODBC Driver 17 for SQL Server]Communication link failure (0) (SQLExecDirectW)')"
     ]
    }
   ],
   "source": [
    "ind = 0\n",
    "for i in excel_files:\n",
    "    print(str(ind) + \") \"+ i[28:])\n",
    "    ind = ind+1\n",
    "inpu = input(\"Enter the serial number of the file you would like to process\\n\")    \n",
    "filen=excel_files[int(inpu)]\n",
    "print(filen)\n",
    "path_list=formating(filen)    \n",
    "print(\"The current ticker that is detected is \", path_list[3])\n",
    "ticker_input = input(\"Would you like to proceed with this ticker? [Y]//[N] \")\n",
    "val=function1(filen,path_list)\n",
    "if val==1:\n",
    "    print(\"FAULT\")\n",
    "elif val==2:\n",
    "    print(\"fault with sheet name\")"
   ]
  },
  {
   "cell_type": "code",
   "execution_count": 65,
   "metadata": {},
   "outputs": [
    {
     "data": {
      "text/plain": [
       "1"
      ]
     },
     "execution_count": 65,
     "metadata": {},
     "output_type": "execute_result"
    }
   ],
   "source": [
    "\n",
    "\n",
    "\n",
    "\n",
    "\n",
    "\n",
    "\n",
    "\n",
    "\n",
    "\n",
    "\n",
    "\n",
    "\n",
    "\n",
    "\n",
    "\n",
    "\n",
    "len(ticker_dictionary['matches'][2][1])"
   ]
  },
  {
   "cell_type": "code",
   "execution_count": null,
   "metadata": {},
   "outputs": [],
   "source": [
    "glob.glob(\"C:\\\\Users\\\\admin\\\\thapovan\\\\Thapovan2\\\\Corpus\\*csv\")"
   ]
  },
  {
   "cell_type": "code",
   "execution_count": null,
   "metadata": {},
   "outputs": [],
   "source": [
    "data.head()"
   ]
  },
  {
   "cell_type": "code",
   "execution_count": null,
   "metadata": {},
   "outputs": [],
   "source": [
    "param = str(rohan).strip(\"][\").replace(\"'\",\"\").replace(\", \",\",\")"
   ]
  },
  {
   "cell_type": "code",
   "execution_count": 145,
   "metadata": {},
   "outputs": [
    {
     "data": {
      "text/plain": [
       "'Net Income,RevPar,Slots'"
      ]
     },
     "execution_count": 145,
     "metadata": {},
     "output_type": "execute_result"
    }
   ],
   "source": [
    "a = (ticker_dictionary['matches'][2]).strip(\"][\").replace(\"'\",\"\").replace(\", \",\",\")\n",
    "a\n"
   ]
  },
  {
   "cell_type": "code",
   "execution_count": 26,
   "metadata": {},
   "outputs": [],
   "source": [
    "select_stmt1 = F\"select distinct subsidiary_id from dbo.cc_actual_metrics_consolidated where \" \\\n",
    "                    F\"metric_name = 'Property, Plant & Equipment' and quarter = 'Q1' and ticker_code = 'AAP' and financial_year = 2017 and value like 1439.6200\""
   ]
  },
  {
   "cell_type": "code",
   "execution_count": 27,
   "metadata": {},
   "outputs": [
    {
     "data": {
      "text/plain": [
       "<pyodbc.Cursor at 0x21a59a48918>"
      ]
     },
     "execution_count": 27,
     "metadata": {},
     "output_type": "execute_result"
    }
   ],
   "source": [
    " cursor.execute(select_stmt1)"
   ]
  },
  {
   "cell_type": "code",
   "execution_count": 28,
   "metadata": {},
   "outputs": [],
   "source": [
    "b=str(cursor.fetchone())\n",
    "#m = []\n",
    "#while b:\n",
    "#    m.append(str(b.subsidiary_name))\n",
    "#    b= cursor.fetchone()"
   ]
  },
  {
   "cell_type": "code",
   "execution_count": 6,
   "metadata": {},
   "outputs": [],
   "source": [
    "a = \"C:\\trial\\2018\\may\\2 MAY\\lvs\\AAP-McClintock.xlsx\""
   ]
  },
  {
   "cell_type": "code",
   "execution_count": 15,
   "metadata": {},
   "outputs": [
    {
     "data": {
      "text/plain": [
       "'AAP-McClintock.xlsx'"
      ]
     },
     "execution_count": 15,
     "metadata": {},
     "output_type": "execute_result"
    }
   ],
   "source": [
    "a[23:]"
   ]
  },
  {
   "cell_type": "code",
   "execution_count": 9,
   "metadata": {},
   "outputs": [],
   "source": [
    "a = corpus_list"
   ]
  },
  {
   "cell_type": "code",
   "execution_count": 10,
   "metadata": {},
   "outputs": [],
   "source": [
    " a = list(map(lambda x: x.replace(\"C:\\\\Users\\\\admin\\\\thapovan\\\\Thapovan2\\\\Corpus\\\\\",''),a))"
   ]
  },
  {
   "cell_type": "code",
   "execution_count": 49,
   "metadata": {},
   "outputs": [
    {
     "name": "stdout",
     "output_type": "stream",
     "text": [
      "(Decimal('0.6206'), )\n"
     ]
    }
   ],
   "source": [
    "print(b)"
   ]
  },
  {
   "cell_type": "code",
   "execution_count": 12,
   "metadata": {},
   "outputs": [
    {
     "name": "stdout",
     "output_type": "stream",
     "text": [
      "1\n"
     ]
    }
   ],
   "source": [
    "if(\"lvs_matches.csv\" in a):\n",
    "    print(1)"
   ]
  },
  {
   "cell_type": "code",
   "execution_count": 46,
   "metadata": {},
   "outputs": [],
   "source": [
    "string = \"rohan ---> Philip\""
   ]
  },
  {
   "cell_type": "code",
   "execution_count": 47,
   "metadata": {},
   "outputs": [
    {
     "data": {
      "text/plain": [
       "['rohan ', ' Philip']"
      ]
     },
     "execution_count": 47,
     "metadata": {},
     "output_type": "execute_result"
    }
   ],
   "source": [
    "string.split(\"--->\")"
   ]
  },
  {
   "cell_type": "code",
   "execution_count": 70,
   "metadata": {},
   "outputs": [
    {
     "ename": "AttributeError",
     "evalue": "'list' object has no attribute 'head'",
     "output_type": "error",
     "traceback": [
      "\u001b[1;31m---------------------------------------------------------------------------\u001b[0m",
      "\u001b[1;31mAttributeError\u001b[0m                            Traceback (most recent call last)",
      "\u001b[1;32m<ipython-input-70-304fa4ce4ebd>\u001b[0m in \u001b[0;36m<module>\u001b[1;34m\u001b[0m\n\u001b[1;32m----> 1\u001b[1;33m \u001b[0mdata\u001b[0m\u001b[1;33m.\u001b[0m\u001b[0mhead\u001b[0m\u001b[1;33m(\u001b[0m\u001b[1;33m)\u001b[0m\u001b[1;33m\u001b[0m\u001b[1;33m\u001b[0m\u001b[0m\n\u001b[0m",
      "\u001b[1;31mAttributeError\u001b[0m: 'list' object has no attribute 'head'"
     ]
    }
   ],
   "source": [
    "data.head()"
   ]
  },
  {
   "cell_type": "code",
   "execution_count": 83,
   "metadata": {},
   "outputs": [
    {
     "data": {
      "text/plain": [
       "'100% Equities Strategy '"
      ]
     },
     "execution_count": 83,
     "metadata": {},
     "output_type": "execute_result"
    }
   ],
   "source": [
    "data.iloc[1][0]"
   ]
  },
  {
   "cell_type": "code",
   "execution_count": 76,
   "metadata": {},
   "outputs": [
    {
     "data": {
      "text/html": [
       "<div>\n",
       "<style scoped>\n",
       "    .dataframe tbody tr th:only-of-type {\n",
       "        vertical-align: middle;\n",
       "    }\n",
       "\n",
       "    .dataframe tbody tr th {\n",
       "        vertical-align: top;\n",
       "    }\n",
       "\n",
       "    .dataframe thead th {\n",
       "        text-align: right;\n",
       "    }\n",
       "</style>\n",
       "<table border=\"1\" class=\"dataframe\">\n",
       "  <thead>\n",
       "    <tr style=\"text-align: right;\">\n",
       "      <th></th>\n",
       "      <th>Term</th>\n",
       "      <th>Definition</th>\n",
       "      <th>word_count</th>\n",
       "    </tr>\n",
       "  </thead>\n",
       "  <tbody>\n",
       "    <tr>\n",
       "      <th>2</th>\n",
       "      <td>100% Mortgage</td>\n",
       "      <td>100% mortgage is a mortgage loan in which the ...</td>\n",
       "      <td>41</td>\n",
       "    </tr>\n",
       "  </tbody>\n",
       "</table>\n",
       "</div>"
      ],
      "text/plain": [
       "             Term                                         Definition  \\\n",
       "2  100% Mortgage   100% mortgage is a mortgage loan in which the ...   \n",
       "\n",
       "   word_count  \n",
       "2          41  "
      ]
     },
     "execution_count": 76,
     "metadata": {},
     "output_type": "execute_result"
    }
   ],
   "source": [
    "data.loc[[],'Term':'word_count']"
   ]
  },
  {
   "cell_type": "code",
   "execution_count": 75,
   "metadata": {},
   "outputs": [],
   "source": [
    "d = pd.DataFrame()"
   ]
  },
  {
   "cell_type": "code",
   "execution_count": 78,
   "metadata": {},
   "outputs": [],
   "source": [
    "d=d.append(data.loc[[2],'Term'], ignore_index =True)"
   ]
  },
  {
   "cell_type": "code",
   "execution_count": 79,
   "metadata": {},
   "outputs": [
    {
     "data": {
      "text/html": [
       "<div>\n",
       "<style scoped>\n",
       "    .dataframe tbody tr th:only-of-type {\n",
       "        vertical-align: middle;\n",
       "    }\n",
       "\n",
       "    .dataframe tbody tr th {\n",
       "        vertical-align: top;\n",
       "    }\n",
       "\n",
       "    .dataframe thead th {\n",
       "        text-align: right;\n",
       "    }\n",
       "</style>\n",
       "<table border=\"1\" class=\"dataframe\">\n",
       "  <thead>\n",
       "    <tr style=\"text-align: right;\">\n",
       "      <th></th>\n",
       "      <th>Term</th>\n",
       "      <th>Definition</th>\n",
       "      <th>word_count</th>\n",
       "    </tr>\n",
       "  </thead>\n",
       "  <tbody>\n",
       "    <tr>\n",
       "      <th>0</th>\n",
       "      <td>100% Mortgage</td>\n",
       "      <td>100% mortgage is a mortgage loan in which the ...</td>\n",
       "      <td>41</td>\n",
       "    </tr>\n",
       "  </tbody>\n",
       "</table>\n",
       "</div>"
      ],
      "text/plain": [
       "             Term                                         Definition  \\\n",
       "0  100% Mortgage   100% mortgage is a mortgage loan in which the ...   \n",
       "\n",
       "   word_count  \n",
       "0          41  "
      ]
     },
     "execution_count": 79,
     "metadata": {},
     "output_type": "execute_result"
    }
   ],
   "source": [
    "value = "
   ]
  },
  {
   "cell_type": "code",
   "execution_count": 175,
   "metadata": {},
   "outputs": [],
   "source": [
    "select_stmt1 = F\"select metric_name from dbo.cc_actual_metrics_consolidated where \" \\\n",
    "                    F\"ticker_code = 'AAP' and (value like {valueo} or value like {value1} or value like {value3})\""
   ]
  },
  {
   "cell_type": "code",
   "execution_count": 173,
   "metadata": {},
   "outputs": [],
   "source": [
    "value = -18.43\n",
    "valueo= \"'\"+str(value*100)+\"'\" #orginal with 100 multiplied\n",
    "value1 = \"'\"+str(int(value*100))+\".%\"+\"'\" # multiply by 100 and then integered\n",
    "value3 = \"'\"+str(-1*int(value*100))+\".%\"+\"'\" # multiply by 100 and integer and negate it"
   ]
  },
  {
   "cell_type": "code",
   "execution_count": 145,
   "metadata": {},
   "outputs": [
    {
     "name": "stdout",
     "output_type": "stream",
     "text": [
      "'1066.%'\n"
     ]
    }
   ],
   "source": [
    "print(value3)"
   ]
  },
  {
   "cell_type": "code",
   "execution_count": 174,
   "metadata": {},
   "outputs": [],
   "source": [
    "valueo = \"'\"+str(value)+\"'\" #orginal value\n",
    "value1 = \"'\"+str(round(value,2))+\"%\"+\"'\" # round upto 2\n",
    "value3 = \"'\"+str(-1*round(value,2))+\"%\"+\"'\" # round upto 2  and negate it"
   ]
  },
  {
   "cell_type": "code",
   "execution_count": 195,
   "metadata": {},
   "outputs": [],
   "source": [
    "f= pd.DataFrame(columns=['A','B'])"
   ]
  },
  {
   "cell_type": "code",
   "execution_count": 63,
   "metadata": {},
   "outputs": [],
   "source": [
    "pd.options.display.max_columns = None"
   ]
  },
  {
   "cell_type": "code",
   "execution_count": 23,
   "metadata": {},
   "outputs": [],
   "source": [
    "def a():\n",
    "    a = [1,2,3]\n",
    "    b= [4,5,6]\n",
    "    return(a,b)\n"
   ]
  },
  {
   "cell_type": "raw",
   "metadata": {},
   "source": []
  },
  {
   "cell_type": "code",
   "execution_count": 24,
   "metadata": {},
   "outputs": [],
   "source": [
    "r,s = a()"
   ]
  },
  {
   "cell_type": "code",
   "execution_count": 25,
   "metadata": {},
   "outputs": [
    {
     "data": {
      "text/plain": [
       "[1, 2, 3]"
      ]
     },
     "execution_count": 25,
     "metadata": {},
     "output_type": "execute_result"
    }
   ],
   "source": [
    "r"
   ]
  },
  {
   "cell_type": "code",
   "execution_count": 56,
   "metadata": {},
   "outputs": [],
   "source": [
    "r = \"rohan[56]\""
   ]
  },
  {
   "cell_type": "code",
   "execution_count": 55,
   "metadata": {},
   "outputs": [
    {
     "ename": "TypeError",
     "evalue": "unsupported operand type(s) for -: 'str' and 'str'",
     "output_type": "error",
     "traceback": [
      "\u001b[1;31m---------------------------------------------------------------------------\u001b[0m",
      "\u001b[1;31mTypeError\u001b[0m                                 Traceback (most recent call last)",
      "\u001b[1;32m<ipython-input-55-897478779bd5>\u001b[0m in \u001b[0;36m<module>\u001b[1;34m\u001b[0m\n\u001b[1;32m----> 1\u001b[1;33m \u001b[0mr\u001b[0m \u001b[1;33m-\u001b[0m \u001b[1;34m\"han\"\u001b[0m\u001b[1;33m\u001b[0m\u001b[1;33m\u001b[0m\u001b[0m\n\u001b[0m",
      "\u001b[1;31mTypeError\u001b[0m: unsupported operand type(s) for -: 'str' and 'str'"
     ]
    }
   ],
   "source": [
    "r - \"han\""
   ]
  },
  {
   "cell_type": "code",
   "execution_count": 57,
   "metadata": {},
   "outputs": [],
   "source": [
    "r1 = r[r.find(\"[\")+1:r.find(\"]\")]"
   ]
  },
  {
   "cell_type": "code",
   "execution_count": 152,
   "metadata": {},
   "outputs": [
    {
     "data": {
      "text/plain": [
       "['1', '2', '3']"
      ]
     },
     "execution_count": 152,
     "metadata": {},
     "output_type": "execute_result"
    }
   ],
   "source": [
    "r"
   ]
  },
  {
   "cell_type": "code",
   "execution_count": 151,
   "metadata": {},
   "outputs": [],
   "source": [
    "r = t.split(\",\")"
   ]
  },
  {
   "cell_type": "code",
   "execution_count": 169,
   "metadata": {},
   "outputs": [],
   "source": [
    "a = ['r','a','s','t','t']"
   ]
  },
  {
   "cell_type": "code",
   "execution_count": 172,
   "metadata": {},
   "outputs": [],
   "source": [
    "for i in a:\n",
    "    if i is 't':\n",
    "        a.remove(i)"
   ]
  },
  {
   "cell_type": "code",
   "execution_count": 157,
   "metadata": {},
   "outputs": [
    {
     "name": "stdout",
     "output_type": "stream",
     "text": [
      "a\n",
      "t\n"
     ]
    },
    {
     "ename": "IndexError",
     "evalue": "list index out of range",
     "output_type": "error",
     "traceback": [
      "\u001b[1;31m---------------------------------------------------------------------------\u001b[0m",
      "\u001b[1;31mIndexError\u001b[0m                                Traceback (most recent call last)",
      "\u001b[1;32m<ipython-input-157-fdfe9cd3c78c>\u001b[0m in \u001b[0;36m<module>\u001b[1;34m\u001b[0m\n\u001b[0;32m      3\u001b[0m     \u001b[1;31m#print(i)\u001b[0m\u001b[1;33m\u001b[0m\u001b[1;33m\u001b[0m\u001b[1;33m\u001b[0m\u001b[0m\n\u001b[0;32m      4\u001b[0m     \u001b[1;31m#print(t)\u001b[0m\u001b[1;33m\u001b[0m\u001b[1;33m\u001b[0m\u001b[1;33m\u001b[0m\u001b[0m\n\u001b[1;32m----> 5\u001b[1;33m     \u001b[0mprint\u001b[0m\u001b[1;33m(\u001b[0m\u001b[0ma\u001b[0m\u001b[1;33m[\u001b[0m\u001b[0mt\u001b[0m\u001b[1;33m]\u001b[0m\u001b[1;33m)\u001b[0m\u001b[1;33m\u001b[0m\u001b[1;33m\u001b[0m\u001b[0m\n\u001b[0m\u001b[0;32m      6\u001b[0m     \u001b[0ma\u001b[0m\u001b[1;33m.\u001b[0m\u001b[0mremove\u001b[0m\u001b[1;33m(\u001b[0m\u001b[0ma\u001b[0m\u001b[1;33m[\u001b[0m\u001b[0mt\u001b[0m\u001b[1;33m]\u001b[0m\u001b[1;33m)\u001b[0m\u001b[1;33m\u001b[0m\u001b[1;33m\u001b[0m\u001b[0m\n",
      "\u001b[1;31mIndexError\u001b[0m: list index out of range"
     ]
    }
   ],
   "source": [
    "for i in r:\n",
    "    t=int(i)\n",
    "    #print(i)\n",
    "    #print(t)\n"
   ]
  },
  {
   "cell_type": "code",
   "execution_count": 150,
   "metadata": {},
   "outputs": [],
   "source": [
    "t = '1,2,3'"
   ]
  },
  {
   "cell_type": "code",
   "execution_count": 173,
   "metadata": {},
   "outputs": [
    {
     "data": {
      "text/plain": [
       "['r', 'a', 's']"
      ]
     },
     "execution_count": 173,
     "metadata": {},
     "output_type": "execute_result"
    }
   ],
   "source": [
    "\n",
    "a"
   ]
  },
  {
   "cell_type": "code",
   "execution_count": 65,
   "metadata": {},
   "outputs": [
    {
     "name": "stdout",
     "output_type": "stream",
     "text": [
      "r=                10 \n",
      "r3=               10\n"
     ]
    }
   ],
   "source": [
    "print(f\"{'r=':<15}{r:>5}\",\n",
    "      f\"\\n{'r3=':<15}{r3:>5}\")"
   ]
  },
  {
   "cell_type": "code",
   "execution_count": 11,
   "metadata": {},
   "outputs": [],
   "source": [
    "students = [ ('jack', 34, 'Sydeny') ,\n",
    "('Riti', 30, 'Delhi' ) ,\n",
    "('Aadi', 16, 'New York'), ('Rohan', 34, 'Chennai'), ('Archit', 34, 'UP')]\n",
    "# Create a DataFrame object\n",
    "dfObj = pd.DataFrame(students, columns = ['Name' , 'Age', 'City']) "
   ]
  },
  {
   "cell_type": "code",
   "execution_count": 14,
   "metadata": {},
   "outputs": [
    {
     "data": {
      "text/html": [
       "<div>\n",
       "<style scoped>\n",
       "    .dataframe tbody tr th:only-of-type {\n",
       "        vertical-align: middle;\n",
       "    }\n",
       "\n",
       "    .dataframe tbody tr th {\n",
       "        vertical-align: top;\n",
       "    }\n",
       "\n",
       "    .dataframe thead th {\n",
       "        text-align: right;\n",
       "    }\n",
       "</style>\n",
       "<table border=\"1\" class=\"dataframe\">\n",
       "  <thead>\n",
       "    <tr style=\"text-align: right;\">\n",
       "      <th></th>\n",
       "      <th>Name</th>\n",
       "      <th>Age</th>\n",
       "      <th>City</th>\n",
       "    </tr>\n",
       "  </thead>\n",
       "  <tbody>\n",
       "    <tr>\n",
       "      <th>1</th>\n",
       "      <td>Riti</td>\n",
       "      <td>30</td>\n",
       "      <td>Delhi</td>\n",
       "    </tr>\n",
       "    <tr>\n",
       "      <th>2</th>\n",
       "      <td>Aadi</td>\n",
       "      <td>16</td>\n",
       "      <td>New York</td>\n",
       "    </tr>\n",
       "    <tr>\n",
       "      <th>3</th>\n",
       "      <td>Rohan</td>\n",
       "      <td>34</td>\n",
       "      <td>Chennai</td>\n",
       "    </tr>\n",
       "  </tbody>\n",
       "</table>\n",
       "</div>"
      ],
      "text/plain": [
       "    Name  Age      City\n",
       "1   Riti   30     Delhi\n",
       "2   Aadi   16  New York\n",
       "3  Rohan   34   Chennai"
      ]
     },
     "execution_count": 14,
     "metadata": {},
     "output_type": "execute_result"
    }
   ],
   "source": [
    "dfObj"
   ]
  },
  {
   "cell_type": "code",
   "execution_count": 12,
   "metadata": {},
   "outputs": [],
   "source": [
    "d = list(dfObj['Age'])\n",
    "d.count(34)\n",
    "A= []"
   ]
  },
  {
   "cell_type": "code",
   "execution_count": 15,
   "metadata": {},
   "outputs": [],
   "source": [
    "\n",
    "for i in d:\n",
    "    if d.count(i)>1 and i not in A:\n",
    "        print(dfObj.loc[dfObj['Age']==i])\n",
    "        inp=input(\"Enter the row you want to make the equation with. If you do not want to make an equation, press N\")\n",
    "        if inp is 'N':\n",
    "            l = list(dfObj.loc[dfObj['Age']==i].index)\n",
    "            dfObj = dfObj.drop(l, axis =0)\n",
    "            dfObj.reset_index(drop = False)\n",
    "        else:\n",
    "            inp = int(inp)\n",
    "            l = list(dfObj.loc[dfObj['Age']==i].index)\n",
    "            l.remove(inp)\n",
    "            dfObj = dfObj.drop(l,axis=0)\n",
    "            dfObj.reset_index(drop = True)\n",
    "        A.append(i)\n",
    "    "
   ]
  },
  {
   "cell_type": "code",
   "execution_count": 32,
   "metadata": {},
   "outputs": [
    {
     "data": {
      "text/html": [
       "<div>\n",
       "<style scoped>\n",
       "    .dataframe tbody tr th:only-of-type {\n",
       "        vertical-align: middle;\n",
       "    }\n",
       "\n",
       "    .dataframe tbody tr th {\n",
       "        vertical-align: top;\n",
       "    }\n",
       "\n",
       "    .dataframe thead th {\n",
       "        text-align: right;\n",
       "    }\n",
       "</style>\n",
       "<table border=\"1\" class=\"dataframe\">\n",
       "  <thead>\n",
       "    <tr style=\"text-align: right;\">\n",
       "      <th></th>\n",
       "      <th>Name</th>\n",
       "      <th>Age</th>\n",
       "      <th>City</th>\n",
       "    </tr>\n",
       "  </thead>\n",
       "  <tbody>\n",
       "    <tr>\n",
       "      <th>0</th>\n",
       "      <td>jack</td>\n",
       "      <td>34</td>\n",
       "      <td>Sydeny</td>\n",
       "    </tr>\n",
       "    <tr>\n",
       "      <th>3</th>\n",
       "      <td>Rohan</td>\n",
       "      <td>34</td>\n",
       "      <td>Chennai</td>\n",
       "    </tr>\n",
       "  </tbody>\n",
       "</table>\n",
       "</div>"
      ],
      "text/plain": [
       "    Name  Age     City\n",
       "0   jack   34   Sydeny\n",
       "3  Rohan   34  Chennai"
      ]
     },
     "execution_count": 32,
     "metadata": {},
     "output_type": "execute_result"
    }
   ],
   "source": [
    "dfObj.loc[dfObj['Age'] == 34]"
   ]
  },
  {
   "cell_type": "code",
   "execution_count": 45,
   "metadata": {},
   "outputs": [],
   "source": [
    "dfObj.drop(dfObj.loc[dfObj['Age']==34].index, inplace=True)"
   ]
  },
  {
   "cell_type": "code",
   "execution_count": 52,
   "metadata": {},
   "outputs": [],
   "source": [
    "a =['1','2','3']"
   ]
  },
  {
   "cell_type": "code",
   "execution_count": 47,
   "metadata": {},
   "outputs": [
    {
     "data": {
      "text/html": [
       "<div>\n",
       "<style scoped>\n",
       "    .dataframe tbody tr th:only-of-type {\n",
       "        vertical-align: middle;\n",
       "    }\n",
       "\n",
       "    .dataframe tbody tr th {\n",
       "        vertical-align: top;\n",
       "    }\n",
       "\n",
       "    .dataframe thead th {\n",
       "        text-align: right;\n",
       "    }\n",
       "</style>\n",
       "<table border=\"1\" class=\"dataframe\">\n",
       "  <thead>\n",
       "    <tr style=\"text-align: right;\">\n",
       "      <th></th>\n",
       "      <th>Name</th>\n",
       "      <th>Age</th>\n",
       "      <th>City</th>\n",
       "      <th>a</th>\n",
       "    </tr>\n",
       "  </thead>\n",
       "  <tbody>\n",
       "    <tr>\n",
       "      <th>0</th>\n",
       "      <td>jack</td>\n",
       "      <td>34</td>\n",
       "      <td>Sydeny</td>\n",
       "      <td>ab</td>\n",
       "    </tr>\n",
       "    <tr>\n",
       "      <th>1</th>\n",
       "      <td>Riti</td>\n",
       "      <td>30</td>\n",
       "      <td>Delhi</td>\n",
       "      <td>b</td>\n",
       "    </tr>\n",
       "    <tr>\n",
       "      <th>2</th>\n",
       "      <td>Aadi</td>\n",
       "      <td>16</td>\n",
       "      <td>New York</td>\n",
       "      <td>c</td>\n",
       "    </tr>\n",
       "  </tbody>\n",
       "</table>\n",
       "</div>"
      ],
      "text/plain": [
       "   Name  Age      City   a\n",
       "0  jack   34    Sydeny  ab\n",
       "1  Riti   30     Delhi   b\n",
       "2  Aadi   16  New York   c"
      ]
     },
     "metadata": {},
     "output_type": "display_data"
    }
   ],
   "source": [
    "display((dfObj))"
   ]
  },
  {
   "cell_type": "code",
   "execution_count": 49,
   "metadata": {},
   "outputs": [
    {
     "data": {
      "text/plain": [
       "[0, 3]"
      ]
     },
     "execution_count": 49,
     "metadata": {},
     "output_type": "execute_result"
    }
   ],
   "source": [
    "\n",
    "list(dfObj.loc[dfObj['Age']==34].index)"
   ]
  },
  {
   "cell_type": "code",
   "execution_count": 43,
   "metadata": {},
   "outputs": [
    {
     "data": {
      "text/plain": [
       "[0, 1, 2, 3]"
      ]
     },
     "execution_count": 43,
     "metadata": {},
     "output_type": "execute_result"
    }
   ],
   "source": [
    "list(dfObj.index)"
   ]
  },
  {
   "cell_type": "code",
   "execution_count": 55,
   "metadata": {},
   "outputs": [],
   "source": [
    "for i in range(0,len(a)):\n",
    "    a[i] =int(a[i])"
   ]
  },
  {
   "cell_type": "code",
   "execution_count": 75,
   "metadata": {},
   "outputs": [],
   "source": [
    "a = ['VIP Hold ', '2.9700', '3.9200', '2.8000', '2.8300', '3.0900']"
   ]
  },
  {
   "cell_type": "code",
   "execution_count": 33,
   "metadata": {},
   "outputs": [],
   "source": [
    "dfObj = dfObj.drop([0], axis = 0)"
   ]
  },
  {
   "cell_type": "code",
   "execution_count": 35,
   "metadata": {},
   "outputs": [
    {
     "data": {
      "text/html": [
       "<div>\n",
       "<style scoped>\n",
       "    .dataframe tbody tr th:only-of-type {\n",
       "        vertical-align: middle;\n",
       "    }\n",
       "\n",
       "    .dataframe tbody tr th {\n",
       "        vertical-align: top;\n",
       "    }\n",
       "\n",
       "    .dataframe thead th {\n",
       "        text-align: right;\n",
       "    }\n",
       "</style>\n",
       "<table border=\"1\" class=\"dataframe\">\n",
       "  <thead>\n",
       "    <tr style=\"text-align: right;\">\n",
       "      <th></th>\n",
       "      <th>Name</th>\n",
       "      <th>Age</th>\n",
       "      <th>City</th>\n",
       "    </tr>\n",
       "  </thead>\n",
       "  <tbody>\n",
       "    <tr>\n",
       "      <th>0</th>\n",
       "      <td>Riti</td>\n",
       "      <td>30</td>\n",
       "      <td>Delhi</td>\n",
       "    </tr>\n",
       "    <tr>\n",
       "      <th>1</th>\n",
       "      <td>Aadi</td>\n",
       "      <td>16</td>\n",
       "      <td>New York</td>\n",
       "    </tr>\n",
       "    <tr>\n",
       "      <th>2</th>\n",
       "      <td>Rohan</td>\n",
       "      <td>34</td>\n",
       "      <td>Chennai</td>\n",
       "    </tr>\n",
       "    <tr>\n",
       "      <th>3</th>\n",
       "      <td>Archit</td>\n",
       "      <td>34</td>\n",
       "      <td>UP</td>\n",
       "    </tr>\n",
       "  </tbody>\n",
       "</table>\n",
       "</div>"
      ],
      "text/plain": [
       "     Name  Age      City\n",
       "0    Riti   30     Delhi\n",
       "1    Aadi   16  New York\n",
       "2   Rohan   34   Chennai\n",
       "3  Archit   34        UP"
      ]
     },
     "execution_count": 35,
     "metadata": {},
     "output_type": "execute_result"
    }
   ],
   "source": [
    "dfObj.reset_index(drop = True)"
   ]
  },
  {
   "cell_type": "code",
   "execution_count": 49,
   "metadata": {},
   "outputs": [
    {
     "ename": "SyntaxError",
     "evalue": "invalid syntax (<ipython-input-49-ce2cba7075c2>, line 11)",
     "output_type": "error",
     "traceback": [
      "\u001b[1;36m  File \u001b[1;32m\"<ipython-input-49-ce2cba7075c2>\"\u001b[1;36m, line \u001b[1;32m11\u001b[0m\n\u001b[1;33m    return pass\u001b[0m\n\u001b[1;37m              ^\u001b[0m\n\u001b[1;31mSyntaxError\u001b[0m\u001b[1;31m:\u001b[0m invalid syntax\n"
     ]
    }
   ],
   "source": [
    "def safe_run(func):\n",
    "\n",
    "    def func_wrapper(*args, **kwargs):\n",
    "\n",
    "        try:\n",
    "           return func(*args, **kwargs)\n",
    "\n",
    "        except Exception as e:\n",
    "            a = 1\n",
    "            print(\"pass\")\n",
    "            return pass \n",
    "\n",
    "    return func_wrapper\n"
   ]
  },
  {
   "cell_type": "code",
   "execution_count": 47,
   "metadata": {},
   "outputs": [],
   "source": [
    "@safe_run\n",
    "def try11():\n",
    "    b =1\n",
    "    print(b)\n",
    "    a= a\n",
    "    print(a)"
   ]
  },
  {
   "cell_type": "code",
   "execution_count": 48,
   "metadata": {},
   "outputs": [
    {
     "name": "stdout",
     "output_type": "stream",
     "text": [
      "1\n",
      "pass\n"
     ]
    }
   ],
   "source": [
    "try11()"
   ]
  },
  {
   "cell_type": "code",
   "execution_count": 45,
   "metadata": {},
   "outputs": [
    {
     "data": {
      "text/plain": [
       "1"
      ]
     },
     "execution_count": 45,
     "metadata": {},
     "output_type": "execute_result"
    }
   ],
   "source": [
    "round(1,2)"
   ]
  },
  {
   "cell_type": "code",
   "execution_count": 28,
   "metadata": {},
   "outputs": [],
   "source": [
    "a =1.0"
   ]
  },
  {
   "cell_type": "code",
   "execution_count": 29,
   "metadata": {},
   "outputs": [
    {
     "data": {
      "text/plain": [
       "float"
      ]
     },
     "execution_count": 29,
     "metadata": {},
     "output_type": "execute_result"
    }
   ],
   "source": [
    "type(a)"
   ]
  },
  {
   "cell_type": "code",
   "execution_count": 31,
   "metadata": {},
   "outputs": [
    {
     "data": {
      "text/plain": [
       "float"
      ]
     },
     "execution_count": 31,
     "metadata": {},
     "output_type": "execute_result"
    }
   ],
   "source": [
    "type(abs(a))"
   ]
  },
  {
   "cell_type": "code",
   "execution_count": 35,
   "metadata": {},
   "outputs": [],
   "source": [
    "if type(a) is int:\n",
    "    print(\"hi\")"
   ]
  },
  {
   "cell_type": "code",
   "execution_count": 4,
   "metadata": {},
   "outputs": [],
   "source": [
    "a = '222'"
   ]
  },
  {
   "cell_type": "code",
   "execution_count": 5,
   "metadata": {},
   "outputs": [
    {
     "data": {
      "text/plain": [
       "3"
      ]
     },
     "execution_count": 5,
     "metadata": {},
     "output_type": "execute_result"
    }
   ],
   "source": [
    "a.count('2')"
   ]
  },
  {
   "cell_type": "code",
   "execution_count": null,
   "metadata": {},
   "outputs": [],
   "source": []
  }
 ],
 "metadata": {
  "kernelspec": {
   "display_name": "Python 3",
   "language": "python",
   "name": "python3"
  },
  "language_info": {
   "codemirror_mode": {
    "name": "ipython",
    "version": 3
   },
   "file_extension": ".py",
   "mimetype": "text/x-python",
   "name": "python",
   "nbconvert_exporter": "python",
   "pygments_lexer": "ipython3",
   "version": "3.7.3"
  }
 },
 "nbformat": 4,
 "nbformat_minor": 2
}
